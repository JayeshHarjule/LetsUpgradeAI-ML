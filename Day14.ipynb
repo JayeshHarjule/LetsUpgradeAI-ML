{
  "nbformat": 4,
  "nbformat_minor": 0,
  "metadata": {
    "colab": {
      "name": "Untitled9.ipynb",
      "provenance": [],
      "authorship_tag": "ABX9TyNTDcq30oQg/8F7YW3aD5pO",
      "include_colab_link": true
    },
    "kernelspec": {
      "name": "python3",
      "display_name": "Python 3"
    }
  },
  "cells": [
    {
      "cell_type": "markdown",
      "metadata": {
        "id": "view-in-github",
        "colab_type": "text"
      },
      "source": [
        "<a href=\"https://colab.research.google.com/github/JayeshHarjule/LetsUpgradeAI-ML/blob/master/Day14.ipynb\" target=\"_parent\"><img src=\"https://colab.research.google.com/assets/colab-badge.svg\" alt=\"Open In Colab\"/></a>"
      ]
    },
    {
      "cell_type": "markdown",
      "metadata": {
        "id": "L_R4oDpe3ifr",
        "colab_type": "text"
      },
      "source": [
        "**Answer 1)** \n",
        " Classify each of the following as N, nominal; O, ordinal; or I/R, interval/ratio data:"
      ]
    },
    {
      "cell_type": "markdown",
      "metadata": {
        "id": "iIMiLX-p3jwl",
        "colab_type": "text"
      },
      "source": [
        "    a.  zip code of your local address -> Nominal\n",
        "    b.  letter grade you will receive in this class -> Ordinal\n",
        "    c.  country you were born in -> Nominal\n",
        "    d.  amount of money you have with you -> Ratio\n",
        "    e.  mileage (miles per gallon) your car gets ->Interval\n",
        "    f.  brand of chocolate you prefer -> Nominal\n",
        "    g.  year of your birth (A.D.) -> Interval\n",
        "    h.  weight of your pet -> Interval\n",
        "    i.  degrees earned by your teachers -> Ordinal\n",
        "    j.  egg sizes  (Small, Medium, Large, Extra Large, Jumbo) -> Nominal"
      ]
    },
    {
      "cell_type": "markdown",
      "metadata": {
        "id": "bvOWLseHKmDG",
        "colab_type": "text"
      },
      "source": [
        "**Answer 2)**    Which of the following is an example of a continuous variable? "
      ]
    },
    {
      "cell_type": "markdown",
      "metadata": {
        "id": "QxPDinl8Kuqq",
        "colab_type": "text"
      },
      "source": [
        "A: Family income -> Continous\n",
        "B: Number of students in a statistics class  -> Discrete\n",
        "C: Zip codes of shoppers -> Discrete\n",
        "D: Rankings of baseball teams in a league -> Discrete"
      ]
    }
  ]
}