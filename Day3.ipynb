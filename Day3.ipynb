{
  "nbformat": 4,
  "nbformat_minor": 0,
  "metadata": {
    "colab": {
      "name": "Untitled0.ipynb",
      "provenance": [],
      "collapsed_sections": [],
      "authorship_tag": "ABX9TyORYvXf78fYLNCu+Tka+mRC",
      "include_colab_link": true
    },
    "kernelspec": {
      "name": "python3",
      "display_name": "Python 3"
    }
  },
  "cells": [
    {
      "cell_type": "markdown",
      "metadata": {
        "id": "view-in-github",
        "colab_type": "text"
      },
      "source": [
        "<a href=\"https://colab.research.google.com/github/JayeshHarjule/LetsUpgradeAI-ML/blob/master/Day3.ipynb\" target=\"_parent\"><img src=\"https://colab.research.google.com/assets/colab-badge.svg\" alt=\"Open In Colab\"/></a>"
      ]
    },
    {
      "cell_type": "markdown",
      "metadata": {
        "id": "9YwhpVzVFfxS",
        "colab_type": "text"
      },
      "source": [
        "Program to Subtract two complex numbers"
      ]
    },
    {
      "cell_type": "code",
      "metadata": {
        "id": "kTlx0hKlzkxC",
        "colab_type": "code",
        "colab": {
          "base_uri": "https://localhost:8080/",
          "height": 35
        },
        "outputId": "ca7181e0-f42a-4aaf-86c2-42f4c3a1efdc"
      },
      "source": [
        "c1 = 3+2j\n",
        "c2 = 4+5j\n",
        "Result = c1-c2\n",
        "print(\"c2 =\",c2, \"subtracted from c1 =\",c1,\"results in\", Result)"
      ],
      "execution_count": 14,
      "outputs": [
        {
          "output_type": "stream",
          "text": [
            "c2 = (4+5j) subtracted from c1 = (3+2j) results in (-1-3j)\n"
          ],
          "name": "stdout"
        }
      ]
    },
    {
      "cell_type": "markdown",
      "metadata": {
        "id": "wd9g-lv4G6JR",
        "colab_type": "text"
      },
      "source": [
        "Program to find the fourth root of a number"
      ]
    },
    {
      "cell_type": "code",
      "metadata": {
        "id": "L9gUu2LAHJ5G",
        "colab_type": "code",
        "colab": {
          "base_uri": "https://localhost:8080/",
          "height": 35
        },
        "outputId": "aafc545d-43e5-46ec-f733-02bb187f6fdb"
      },
      "source": [
        "Num1=81\n",
        "Result1 = Num1**(1/4)\n",
        "print(\"Fourth root of Num1 =\",Num1,\"is\",Result1)\n",
        "\n"
      ],
      "execution_count": 15,
      "outputs": [
        {
          "output_type": "stream",
          "text": [
            "Fourth root of Num1 = 81 is 3.0\n"
          ],
          "name": "stdout"
        }
      ]
    },
    {
      "cell_type": "markdown",
      "metadata": {
        "id": "OU7WBtKhJRYl",
        "colab_type": "text"
      },
      "source": [
        "Program to swap two numbers in Python with the help of a temporary variable, t1."
      ]
    },
    {
      "cell_type": "code",
      "metadata": {
        "id": "hqzePJFcJa8T",
        "colab_type": "code",
        "colab": {
          "base_uri": "https://localhost:8080/",
          "height": 52
        },
        "outputId": "a6819dd1-2035-49ae-bae7-c658781b0c01"
      },
      "source": [
        "n1 = 3\n",
        "n2 = 4\n",
        "print(\"Before swapping n1 =\",n1,\"and n2 =\",n2)\n",
        "t1 = n1\n",
        "n1 = n2\n",
        "n2 = t1\n",
        "print(\"After swapping n1 =\",n1,\"and n2 =\",n2)\n",
        "\n"
      ],
      "execution_count": 17,
      "outputs": [
        {
          "output_type": "stream",
          "text": [
            "Before swapping n1 = 3 and n2 = 4\n",
            "After swapping n1 = 4 and n2 = 3\n"
          ],
          "name": "stdout"
        }
      ]
    },
    {
      "cell_type": "markdown",
      "metadata": {
        "id": "OKaaNYnBMRzF",
        "colab_type": "text"
      },
      "source": [
        "Program to swap two numbers in Python without using a temporary variable."
      ]
    },
    {
      "cell_type": "code",
      "metadata": {
        "id": "ixaw0_eyMdxz",
        "colab_type": "code",
        "colab": {
          "base_uri": "https://localhost:8080/",
          "height": 52
        },
        "outputId": "b988ecd0-8752-41d8-9603-3ee8c72f8cdf"
      },
      "source": [
        "a1=1\n",
        "b1=2\n",
        "print(\"Before swapping a1 =\",a1,\"and b1 =\",b1)\n",
        "a1=a1+b1\n",
        "b1=a1-b1\n",
        "a1=a1-b1\n",
        "print(\"After swapping a1 =\",a1,\"and b1 =\",b1)\n"
      ],
      "execution_count": 43,
      "outputs": [
        {
          "output_type": "stream",
          "text": [
            "Before swapping a1 = 1 and b1 = 2\n",
            "After swapping a1 = 2 and b1 = 1\n"
          ],
          "name": "stdout"
        }
      ]
    },
    {
      "cell_type": "markdown",
      "metadata": {
        "id": "tuURWMkpk4Pv",
        "colab_type": "text"
      },
      "source": [
        "Program to convert temperature from Fahrenheit to Kelvin and Celsius both."
      ]
    },
    {
      "cell_type": "code",
      "metadata": {
        "id": "wno8puzRk6wB",
        "colab_type": "code",
        "colab": {
          "base_uri": "https://localhost:8080/",
          "height": 69
        },
        "outputId": "677f5540-b4e8-4730-b722-dfac4fe0b312"
      },
      "source": [
        "fahrenheit = 60\n",
        "print(\"Temperature in Fahrenheit =\", fahrenheit)\n",
        "kelvin = 273.15 + ((fahrenheit - 32) * (5/9))\n",
        "print (\"Temperature in Kelvin =\", kelvin)\n",
        "celsius = (fahrenheit - 32) * 5/9\n",
        "print(\"Temperature in celsius =\", celsius)\n"
      ],
      "execution_count": 22,
      "outputs": [
        {
          "output_type": "stream",
          "text": [
            "Temperature in Fahrenheit = 60\n",
            "Temperature in Kelvin = 288.7055555555555\n",
            "Temperature in celsius = 15.555555555555555\n"
          ],
          "name": "stdout"
        }
      ]
    },
    {
      "cell_type": "markdown",
      "metadata": {
        "id": "fwu67yQBpflq",
        "colab_type": "text"
      },
      "source": [
        "Program to demonstrate all the available data types in Python."
      ]
    },
    {
      "cell_type": "code",
      "metadata": {
        "id": "KhNMj5XZph_U",
        "colab_type": "code",
        "colab": {
          "base_uri": "https://localhost:8080/",
          "height": 243
        },
        "outputId": "9f4d5a75-a066-4178-c0e6-d19db29b2dc8"
      },
      "source": [
        "data1 = 10\n",
        "print(\"Data type of\",data1, \"is\",type(data1))\n",
        "data1 = 10.0\n",
        "print(\"Data type of\",data1, \"is\",type(data1))\n",
        "data1 = 10 + 1j\n",
        "print(\"Data type of\",data1, \"is\",type(data1))\n",
        "data1 = \"Hello Python World\"\n",
        "print(\"Data type of\",data1, \"is\",type(data1))\n",
        "data1 = [\"tiger\",\"cow\",\"frog\"]\n",
        "print(\"Data type of\",data1, \"is\",type(data1))\n",
        "data1 = range(9)\n",
        "print(\"Data type of\",data1, \"is\",type(data1))\n",
        "data1 = (\"tiger\",\"cow\",\"frog\")\n",
        "print(\"Data type of\",data1, \"is\",type(data1))\n",
        "data1 = True\n",
        "print(\"Data type of\",data1, \"is\",type(data1))\n",
        "data1 = {\"tiger\",\"cow\",\"frog\"}\n",
        "print(\"Data type of\",data1, \"is\",type(data1))\n",
        "data1 = {\"name\":\"tiger\",\"family\":\"Cat\"}\n",
        "print(\"Data type of\",data1, \"is\",type(data1))\n",
        "data1 = b\"Hey\"\n",
        "print(\"Data type of\",data1, \"is\",type(data1))\n",
        "data1 = bytearray(2)\n",
        "print(\"Data type of\",data1, \"is\",type(data1))\n",
        "data1 = memoryview(bytes(3))\n",
        "print(\"Data type of\",data1, \"is\",type(data1))"
      ],
      "execution_count": 41,
      "outputs": [
        {
          "output_type": "stream",
          "text": [
            "Data type of 10 is <class 'int'>\n",
            "Data type of 10.0 is <class 'float'>\n",
            "Data type of (10+1j) is <class 'complex'>\n",
            "Data type of Hello Python World is <class 'str'>\n",
            "Data type of ['tiger', 'cow', 'frog'] is <class 'list'>\n",
            "Data type of range(0, 9) is <class 'range'>\n",
            "Data type of ('tiger', 'cow', 'frog') is <class 'tuple'>\n",
            "Data type of True is <class 'bool'>\n",
            "Data type of {'frog', 'tiger', 'cow'} is <class 'set'>\n",
            "Data type of {'name': 'tiger', 'family': 'Cat'} is <class 'dict'>\n",
            "Data type of b'Hey' is <class 'bytes'>\n",
            "Data type of bytearray(b'\\x00\\x00') is <class 'bytearray'>\n",
            "Data type of <memory at 0x7fe32b1ed588> is <class 'memoryview'>\n"
          ],
          "name": "stdout"
        }
      ]
    }
  ]
}