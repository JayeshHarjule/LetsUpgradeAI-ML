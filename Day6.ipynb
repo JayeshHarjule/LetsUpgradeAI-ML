{
  "nbformat": 4,
  "nbformat_minor": 0,
  "metadata": {
    "colab": {
      "name": "Untitled4.ipynb",
      "provenance": [],
      "authorship_tag": "ABX9TyOmYXb/vxKK9bFqY9Zupc4x",
      "include_colab_link": true
    },
    "kernelspec": {
      "name": "python3",
      "display_name": "Python 3"
    }
  },
  "cells": [
    {
      "cell_type": "markdown",
      "metadata": {
        "id": "view-in-github",
        "colab_type": "text"
      },
      "source": [
        "<a href=\"https://colab.research.google.com/github/JayeshHarjule/LetsUpgradeAI-ML/blob/master/Day6.ipynb\" target=\"_parent\"><img src=\"https://colab.research.google.com/assets/colab-badge.svg\" alt=\"Open In Colab\"/></a>"
      ]
    },
    {
      "cell_type": "markdown",
      "metadata": {
        "id": "G-i2-9FFALBl",
        "colab_type": "text"
      },
      "source": [
        "Answer 1) **Problem Statement**:-\n",
        "\n",
        "Assuming that we have some email addresses in the \"username@companyname.com\" format, please\n",
        "write a program to print the company name of a given email address. Both user names and company\n",
        "names are composed of letters only.\n",
        "Input Format:\n",
        "The first line of the input contains an email address.\n",
        "Output Format:\n",
        "Print the company name in a single line.\n",
        "Example;\n",
        "Input:\n",
        "john@google.com\n",
        "Output:\n",
        "google.\n"
      ]
    },
    {
      "cell_type": "code",
      "metadata": {
        "id": "4Y1kzlFrAg-e",
        "colab_type": "code",
        "colab": {
          "base_uri": "https://localhost:8080/",
          "height": 69
        },
        "outputId": "3fd435d1-f962-44eb-b919-4f2f0ed97d9b"
      },
      "source": [
        "emailId = str(input(\"Enter the email ID:\"))\n",
        "# Logic to retrieve company name\n",
        "CompanyName1 = emailId.split('@')[1]\n",
        "i1=CompanyName1.rindex(\".\")\n",
        "print(\"CompanyName of entered mail ID:\")\n",
        "print(CompanyName1.split(CompanyName1[i1])[0]+\".\")"
      ],
      "execution_count": 23,
      "outputs": [
        {
          "output_type": "stream",
          "text": [
            "Enter the email ID:jmh@rediffc.com\n",
            "CompanyName of entered mail ID:\n",
            "rediffc.\n"
          ],
          "name": "stdout"
        }
      ]
    },
    {
      "cell_type": "markdown",
      "metadata": {
        "id": "KYtPsyMXJUMp",
        "colab_type": "text"
      },
      "source": [
        "Answer 2) **Problem Statement**:-\n",
        "\n",
        "Write a program that accepts a comma-separated sequence of words as input and prints the words in a\n",
        "comma-separated sequence after sorting them alphabetically.\n",
        "\n",
        "Input Format:\n",
        "The first line of input contains words separated by the comma.\n",
        "\n",
        "Output Format:\n",
        "Print the sorted words separated by the comma.\n",
        "\n",
        "Example:\n",
        "\n",
        "Input:\n",
        "\n",
        "without,hello,bag,world\n",
        "\n",
        "Output:\n",
        "\n",
        "bag,hello,without,world"
      ]
    },
    {
      "cell_type": "code",
      "metadata": {
        "id": "RFK2upukLgxC",
        "colab_type": "code",
        "colab": {}
      },
      "source": [
        ",b,c\n"
      ],
      "execution_count": null,
      "outputs": []
    },
    {
      "cell_type": "code",
      "metadata": {
        "id": "wJcCoT5rJiaG",
        "colab_type": "code",
        "colab": {
          "base_uri": "https://localhost:8080/",
          "height": 52
        },
        "outputId": "3b068d7b-5b89-4c62-d393-d31491b71262"
      },
      "source": [
        "SeqOfWords = input(\"Input sequence of words seperated with comma :  \")\n",
        "words = [word for word in SeqOfWords.split(\",\")]\n",
        "print(\",\".join(sorted(list(set(words)))))\n"
      ],
      "execution_count": 28,
      "outputs": [
        {
          "output_type": "stream",
          "text": [
            "Input sequence of words seperated with comma :  bay,word,structure,long,block\n",
            "bay,block,long,structure,word\n"
          ],
          "name": "stdout"
        }
      ]
    },
    {
      "cell_type": "markdown",
      "metadata": {
        "id": "oZ-5q4hmPsgh",
        "colab_type": "text"
      },
      "source": [
        "Answer 3) **Problem Statement** :-\n",
        "\n",
        "Create your own Jupyter Notebook for Sets.\n",
        "\n"
      ]
    },
    {
      "cell_type": "markdown",
      "metadata": {
        "id": "kvzbmeh-ymJy",
        "colab_type": "text"
      },
      "source": [
        "\n",
        "**Sets**\n",
        "\n",
        "Its a collection of unorderd and unindexed data type. It is written in curly brackets.\n",
        "\n",
        "it is not possible to access items in a set by reffering to an index or key. but you can do that by using in keyword."
      ]
    },
    {
      "cell_type": "code",
      "metadata": {
        "id": "Dm2HHmnyywBg",
        "colab_type": "code",
        "colab": {
          "base_uri": "https://localhost:8080/",
          "height": 35
        },
        "outputId": "8b1a2a9d-0e1e-4ee4-97b9-02c7296459ac"
      },
      "source": [
        "st = {\"Panipuri\",\"Vadapav\",\"Pizza\"}\n",
        "print(st)"
      ],
      "execution_count": 15,
      "outputs": [
        {
          "output_type": "stream",
          "text": [
            "{'Vadapav', 'Panipuri', 'Pizza'}\n"
          ],
          "name": "stdout"
        }
      ]
    },
    {
      "cell_type": "code",
      "metadata": {
        "id": "f-szjTEfyz8W",
        "colab_type": "code",
        "colab": {
          "base_uri": "https://localhost:8080/",
          "height": 35
        },
        "outputId": "5d1e06d7-6731-4fed-be59-f921ea5a7164"
      },
      "source": [
        "#check id cakes is present in the set\n",
        "st = {\"Panipuri\",\"Vadapav\",\"Pizza\"}\n",
        "print(\"cakes\" in st)"
      ],
      "execution_count": 16,
      "outputs": [
        {
          "output_type": "stream",
          "text": [
            "False\n"
          ],
          "name": "stdout"
        }
      ]
    },
    {
      "cell_type": "code",
      "metadata": {
        "id": "9DLVE1Aky52N",
        "colab_type": "code",
        "colab": {
          "base_uri": "https://localhost:8080/",
          "height": 35
        },
        "outputId": "5f3e9c3d-d7fb-43fa-c1ec-52796d21b87d"
      },
      "source": [
        "#  use add() method to add an item to a set.\n",
        "st = {\"Panipuri\",\"Vadapav\",\"Pizza\"}\n",
        "st.add(\"bread\")\n",
        "print(st)"
      ],
      "execution_count": 18,
      "outputs": [
        {
          "output_type": "stream",
          "text": [
            "{'Vadapav', 'Panipuri', 'bread', 'Pizza'}\n"
          ],
          "name": "stdout"
        }
      ]
    },
    {
      "cell_type": "code",
      "metadata": {
        "id": "LM7SgoqEzATW",
        "colab_type": "code",
        "colab": {
          "base_uri": "https://localhost:8080/",
          "height": 35
        },
        "outputId": "9d4ccb7c-0153-4d75-cb56-b583b51bf459"
      },
      "source": [
        "#in order to add multiple items in a set we use update(method)\n",
        "st = {\"Panipuri\",\"Vadapav\",\"Pizza\"}\n",
        "st.update([\"bread\",\"pie\",\"buns\"])\n",
        "print(st)"
      ],
      "execution_count": 19,
      "outputs": [
        {
          "output_type": "stream",
          "text": [
            "{'buns', 'Panipuri', 'bread', 'Pizza', 'Vadapav', 'pie'}\n"
          ],
          "name": "stdout"
        }
      ]
    },
    {
      "cell_type": "code",
      "metadata": {
        "id": "n6gyhgjzzFYR",
        "colab_type": "code",
        "colab": {
          "base_uri": "https://localhost:8080/",
          "height": 35
        },
        "outputId": "c57a277a-6d91-44d5-a824-d128712df0b5"
      },
      "source": [
        "# To get the length of items in a set we use le()method\n",
        "st = {\"Panipuri\",\"Vadapav\",\"Pizza\"}\n",
        "print(len(st))"
      ],
      "execution_count": 20,
      "outputs": [
        {
          "output_type": "stream",
          "text": [
            "3\n"
          ],
          "name": "stdout"
        }
      ]
    },
    {
      "cell_type": "code",
      "metadata": {
        "id": "dKFfnNc8zLuH",
        "colab_type": "code",
        "colab": {
          "base_uri": "https://localhost:8080/",
          "height": 35
        },
        "outputId": "e7825e00-9f34-4c8a-9b33-834e8f24996f"
      },
      "source": [
        "# Use remove(),or discard()method to remove items from aset.\n",
        "st = {\"Panipuri\",\"Vadapav\",\"Pizza\"}\n",
        "st.remove(\"Panipuri\")\n",
        "st.discard(\"Vadapav\")\n",
        "print(st)"
      ],
      "execution_count": 21,
      "outputs": [
        {
          "output_type": "stream",
          "text": [
            "{'Pizza'}\n"
          ],
          "name": "stdout"
        }
      ]
    },
    {
      "cell_type": "markdown",
      "metadata": {
        "id": "PFsT3AuyzRam",
        "colab_type": "text"
      },
      "source": [
        "\n",
        "**NOTE**\n",
        "\n",
        "In set when we use remove() method and the item doesn't exist it will raise error . \n",
        "But when we use discard method even if the item doesn't exist it will not raise error."
      ]
    },
    {
      "cell_type": "code",
      "metadata": {
        "id": "qGbot5XLzdoY",
        "colab_type": "code",
        "colab": {
          "base_uri": "https://localhost:8080/",
          "height": 52
        },
        "outputId": "13bdd6e2-65bd-419b-9379-8a1823ccfdb6"
      },
      "source": [
        "# pop()method removes the last item in a set.\n",
        "st = {\"Panipuri\",\"Vadapav\",\"Pizza\"}\n",
        "y = st.pop()\n",
        "print(y)\n",
        "print(st)"
      ],
      "execution_count": 22,
      "outputs": [
        {
          "output_type": "stream",
          "text": [
            "Vadapav\n",
            "{'Panipuri', 'Pizza'}\n"
          ],
          "name": "stdout"
        }
      ]
    },
    {
      "cell_type": "code",
      "metadata": {
        "id": "JUIYgpfw0d0E",
        "colab_type": "code",
        "colab": {
          "base_uri": "https://localhost:8080/",
          "height": 35
        },
        "outputId": "fb9e4755-bcbe-4f14-ac58-ec0811905b80"
      },
      "source": [
        "# clear() method empties the set\n",
        "st = {\"Panipuri\",\"Vadapav\",\"Pizza\"}\n",
        "st.clear()\n",
        "print(st)"
      ],
      "execution_count": 23,
      "outputs": [
        {
          "output_type": "stream",
          "text": [
            "set()\n"
          ],
          "name": "stdout"
        }
      ]
    },
    {
      "cell_type": "code",
      "metadata": {
        "id": "d0nIzaPR0shX",
        "colab_type": "code",
        "colab": {
          "base_uri": "https://localhost:8080/",
          "height": 35
        },
        "outputId": "195ccbbd-3bf6-48fb-d406-bb6dfe4f0c20"
      },
      "source": [
        "# To we join two or more sets by use of union ()method ,\n",
        "# or update() method to inserts all items \n",
        "#from one item to another'\n",
        "st1 = {\"Panipuri\",\"Vadapav\",\"Pizza\"}\n",
        "st2 = {1,4,3,7}\n",
        "st3 = st1.union(st2)\n",
        "print(st3)"
      ],
      "execution_count": 25,
      "outputs": [
        {
          "output_type": "stream",
          "text": [
            "{1, 'Panipuri', 'Pizza', 3, 4, 7, 'Vadapav'}\n"
          ],
          "name": "stdout"
        }
      ]
    },
    {
      "cell_type": "code",
      "metadata": {
        "id": "by6NY6Ct03JP",
        "colab_type": "code",
        "colab": {
          "base_uri": "https://localhost:8080/",
          "height": 35
        },
        "outputId": "b92770a7-4d77-43e1-d028-0da291f60116"
      },
      "source": [
        "#We can also use the set()constructor to make a set.\n",
        "#There is use of double round brackets.\n",
        "st1 =set((\"Banana\",\"Apple\",\"Mango\"))\n",
        "print(st1)"
      ],
      "execution_count": 27,
      "outputs": [
        {
          "output_type": "stream",
          "text": [
            "{'Mango', 'Apple', 'Banana'}\n"
          ],
          "name": "stdout"
        }
      ]
    },
    {
      "cell_type": "markdown",
      "metadata": {
        "id": "9rL_12x11H9e",
        "colab_type": "text"
      },
      "source": [
        "**Other set method includes** \n",
        "\n",
        "* copy():-  to copy itemsto the set\n",
        "* difference():- To return a set containing the difference between two or more sets\n",
        "* issubset():- Returns whether another set contains this set or not.\n",
        "* issuperset():- Returns whether this set contains another set or not \n",
        "\n",
        "\n",
        "\n",
        "\n",
        "\n",
        "\n",
        "\n"
      ]
    },
    {
      "cell_type": "markdown",
      "metadata": {
        "id": "ruiFvOCoP-wH",
        "colab_type": "text"
      },
      "source": [
        "Answer 4) **Problem Statement** :-\n",
        "\n",
        "Given a list of n-1 numbers ranging from 1 to n, your task is to find the missing number. There are no\n",
        "duplicates.\n",
        "\n",
        "Input Format:\n",
        "\n",
        "The first line contains n-1 numbers with each number separated by a space.\n",
        "\n",
        "Output Format:\n",
        "\n",
        "Print the missing number\n",
        "\n",
        "Example:\n",
        "\n",
        "Input:\n",
        "\n",
        "1 2 4 6 3 7 8\n",
        "\n",
        "Output:\n",
        "\n",
        "5\n",
        "\n",
        "Explanation:\n",
        "\n",
        "In the above list of numbers 5 is missing and hence 5 is the input"
      ]
    },
    {
      "cell_type": "code",
      "metadata": {
        "id": "6MeiSxXIQecN",
        "colab_type": "code",
        "colab": {
          "base_uri": "https://localhost:8080/",
          "height": 52
        },
        "outputId": "9a98efb9-ff00-45a4-f3d5-7759e63f012e"
      },
      "source": [
        "InputNumbers = input(\"Input numbers with spaces: \")\n",
        "ListofNumbers = list(InputNumbers.split(\" \"))\n",
        "#Convert entered string to list of integer\n",
        "for i in range(0, len(ListofNumbers)): \n",
        "    ListofNumbers[i] = int(ListofNumbers[i])\n",
        "#Logic to find missing numbers in the list of numbers\n",
        "ListOfMissingNumbers = sorted(set(range(ListofNumbers[0], ListofNumbers[-1])) - set(ListofNumbers))\n",
        "#Output the missing numbers with spaces\n",
        "for i in range(0,len(ListOfMissingNumbers)):\n",
        "  print(ListOfMissingNumbers[i],end=\" \")"
      ],
      "execution_count": 49,
      "outputs": [
        {
          "output_type": "stream",
          "text": [
            "Input numbers with spaces: 1 3 6 9\n",
            "2 4 5 7 8 "
          ],
          "name": "stdout"
        }
      ]
    },
    {
      "cell_type": "markdown",
      "metadata": {
        "id": "yke5zi2ehsSp",
        "colab_type": "text"
      },
      "source": [
        "Answer 5) \n",
        "**Problem Statement** :-\n",
        "\n",
        "With a given list L, write a program to print this list L after removing all duplicate values with original order\n",
        "reserved.\n",
        "\n",
        "Example:\n",
        "\n",
        "If the input list is\n",
        "\n",
        "12 24 35 24 88 120 155 88 120 155\n",
        "\n",
        "Then the output should be\n",
        "\n",
        "12 24 35 88 120 155\n",
        "\n",
        "Explanation:\n",
        "\n",
        "Third, the seventh and ninth element of the list L has been removed because it was already present.\n",
        "\n",
        "Input Format:\n",
        "\n",
        "In one line take the elements of the list L with each element separated by a space.\n",
        "\n",
        "Output Format:\n",
        "\n",
        "Print the elements of the modified list in one line with each element separated by a space.\n",
        "\n",
        "Example:\n",
        "\n",
        "Input:\n",
        "\n",
        "12 24 35 24\n",
        "\n",
        "Output:\n",
        "\n",
        "12 24 35"
      ]
    },
    {
      "cell_type": "code",
      "metadata": {
        "id": "EdJ-PrZ5vSbV",
        "colab_type": "code",
        "colab": {
          "base_uri": "https://localhost:8080/",
          "height": 52
        },
        "outputId": "0618eb40-82fa-4ac5-c0cf-8442124f0f3f"
      },
      "source": [
        "# Python code to remove duplicate elements \n",
        "InputNumbers = input(\"Input numbers with spaces: \")\n",
        "ListofNumbers = list(InputNumbers.split(\" \"))\n",
        "#Convert entered string to list of integer\n",
        "for i in range(0, len(ListofNumbers)): \n",
        "    ListofNumbers[i] = int(ListofNumbers[i])\n",
        "#Initialize the list to store Unique Numbers\n",
        "ListOfUniqueNum = [] \n",
        "#Logic for Unique Number\n",
        "for num in ListofNumbers : \n",
        "        if num not in ListOfUniqueNum: \n",
        "            ListOfUniqueNum.append(num)\n",
        "#Output the missing numbers with spaces\n",
        "for i in range(0,len(ListOfUniqueNum)):\n",
        "  print(ListOfUniqueNum[i],end=\" \")"
      ],
      "execution_count": 8,
      "outputs": [
        {
          "output_type": "stream",
          "text": [
            "Input numbers with spaces: 12 34 35 36 78 67 23 12 34 35\n",
            "12 34 35 36 78 67 23 "
          ],
          "name": "stdout"
        }
      ]
    }
  ]
}