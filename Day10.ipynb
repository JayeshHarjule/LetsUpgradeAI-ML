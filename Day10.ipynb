{
  "nbformat": 4,
  "nbformat_minor": 0,
  "metadata": {
    "colab": {
      "name": "Untitled7.ipynb",
      "provenance": [],
      "authorship_tag": "ABX9TyNSgmY3sCm9CpkTvruAutyS",
      "include_colab_link": true
    },
    "kernelspec": {
      "name": "python3",
      "display_name": "Python 3"
    }
  },
  "cells": [
    {
      "cell_type": "markdown",
      "metadata": {
        "id": "view-in-github",
        "colab_type": "text"
      },
      "source": [
        "<a href=\"https://colab.research.google.com/github/JayeshHarjule/LetsUpgradeAI-ML/blob/master/Day10.ipynb\" target=\"_parent\"><img src=\"https://colab.research.google.com/assets/colab-badge.svg\" alt=\"Open In Colab\"/></a>"
      ]
    },
    {
      "cell_type": "markdown",
      "metadata": {
        "id": "OlfIMJdN5Vls",
        "colab_type": "text"
      },
      "source": [
        "Answer 1) Create an element-wise comparison (greater, greater_equal, less and less_equal) of two given arrays"
      ]
    },
    {
      "cell_type": "code",
      "metadata": {
        "id": "zJ_05UuAUq-I",
        "colab_type": "code",
        "colab": {
          "base_uri": "https://localhost:8080/",
          "height": 208
        },
        "outputId": "f9d4c3f7-212e-4e99-a7a3-8e6d4c129940"
      },
      "source": [
        "import numpy as np\n",
        "x = np.array([6, 4, 3])\n",
        "y = np.array([2, 5, 8])\n",
        "print(\"Original numbers:\")\n",
        "print(x)\n",
        "print(y)\n",
        "print(\"Element wise comparison for greater than is:\")\n",
        "print(np.greater(x, y))\n",
        "print(\"Element wise comparison for greater than or equal to is:\")\n",
        "print(np.greater_equal(x, y))\n",
        "print(\"Element wise comparison for less than is:\")\n",
        "print(np.less(x, y))\n",
        "print(\"Element wise comparison for less than or equal to is:\")\n",
        "print(np.less_equal(x, y))"
      ],
      "execution_count": 9,
      "outputs": [
        {
          "output_type": "stream",
          "text": [
            "Original numbers:\n",
            "[6 4 3]\n",
            "[2 5 8]\n",
            "Element wise comparison for greater than is:\n",
            "[ True False False]\n",
            "Element wise comparison for greater than or equal to is:\n",
            "[ True False False]\n",
            "Element wise comparison for less than is:\n",
            "[False  True  True]\n",
            "Element wise comparison for less than or equal to is:\n",
            "[False  True  True]\n"
          ],
          "name": "stdout"
        }
      ]
    },
    {
      "cell_type": "markdown",
      "metadata": {
        "id": "3gRAZTma-F98",
        "colab_type": "text"
      },
      "source": [
        "Answer 2) Write a NumPy program to create an array of 10 zeros,10 ones, 10 fives"
      ]
    },
    {
      "cell_type": "code",
      "metadata": {
        "id": "_wdFYK9O-NUE",
        "colab_type": "code",
        "colab": {
          "base_uri": "https://localhost:8080/",
          "height": 69
        },
        "outputId": "46864d40-cf34-4d16-e2dd-858d669bd90a"
      },
      "source": [
        "import numpy as np\n",
        "array_zero=np.zeros(10)\n",
        "print(\"An array of 10 zeros:\", array_zero)\n",
        "array_ones=np.ones(10)\n",
        "print(\"An array of 10 ones:\",array_ones)\n",
        "array_fives=np.ones(10)*5\n",
        "print(\"An array of 10 fives:\",array_fives)"
      ],
      "execution_count": 2,
      "outputs": [
        {
          "output_type": "stream",
          "text": [
            "An array of 10 zeros: [0. 0. 0. 0. 0. 0. 0. 0. 0. 0.]\n",
            "An array of 10 ones: [1. 1. 1. 1. 1. 1. 1. 1. 1. 1.]\n",
            "An array of 10 fives: [5. 5. 5. 5. 5. 5. 5. 5. 5. 5.]\n"
          ],
          "name": "stdout"
        }
      ]
    },
    {
      "cell_type": "markdown",
      "metadata": {
        "id": "xZCcD0VtM8Zg",
        "colab_type": "text"
      },
      "source": [
        "Answer 3) Write a NumPy program to compute sum of all elements, sum of each column and sum of each row of a\n",
        "given array"
      ]
    },
    {
      "cell_type": "code",
      "metadata": {
        "id": "_OBqMuTQNF12",
        "colab_type": "code",
        "colab": {
          "base_uri": "https://localhost:8080/",
          "height": 121
        },
        "outputId": "1730cf87-7468-4374-bf71-a704952a0aaf"
      },
      "source": [
        "import numpy as np\n",
        "x = np.array([[1,3,5],[6,7,8],[3,5,6]])\n",
        "print(\"Original array:\",x)\n",
        "print(\"Sum of all elements:\",np.sum(x))\n",
        "print(\"Sum of each column:\",np.sum(x, axis=0))\n",
        "print(\"Sum of each row:\",np.sum(x, axis=1))\n"
      ],
      "execution_count": 1,
      "outputs": [
        {
          "output_type": "stream",
          "text": [
            "Original array: [[1 3 5]\n",
            " [6 7 8]\n",
            " [3 5 6]]\n",
            "Sum of all elements: 44\n",
            "Sum of each column: [10 15 19]\n",
            "Sum of each row: [ 9 21 14]\n"
          ],
          "name": "stdout"
        }
      ]
    },
    {
      "cell_type": "markdown",
      "metadata": {
        "id": "y_Yxg56EGEEM",
        "colab_type": "text"
      },
      "source": [
        "Answer 4) Write a NumPy program to add, subtract, multiply, divide arguments element-wise."
      ]
    },
    {
      "cell_type": "code",
      "metadata": {
        "id": "_Yb6I01EGJC3",
        "colab_type": "code",
        "colab": {
          "base_uri": "https://localhost:8080/",
          "height": 121
        },
        "outputId": "c4af2c06-ed54-4fbf-b24f-3f3431de5fe4"
      },
      "source": [
        "import numpy as np\n",
        "a=float(input(\"Enter a =\"))\n",
        "b=float(input(\"Enter b =\"))\n",
        "print(\"Output of adding a & b:\", np.add(a,b))\n",
        "print(\"Output of subtracting a from b:\",np.subtract(a,b))\n",
        "print(\"Output of multiplying a & b:\",np.multiply(a,b))\n",
        "print(\"Output of dividing a by b:\",np.divide(a,b))"
      ],
      "execution_count": 3,
      "outputs": [
        {
          "output_type": "stream",
          "text": [
            "Enter a =5\n",
            "Enter b =10\n",
            "Output of adding a & b: 15.0\n",
            "Output of subtracting a from b: -5.0\n",
            "Output of multiplying a & b: 50.0\n",
            "Output of dividing a by b: 0.5\n"
          ],
          "name": "stdout"
        }
      ]
    },
    {
      "cell_type": "markdown",
      "metadata": {
        "id": "BPJIBXKSHogQ",
        "colab_type": "text"
      },
      "source": [
        "Answer 5) Write a NumPy program to compute the trigonometric sine, cosine and tangent array of angles given in\n",
        "degree."
      ]
    },
    {
      "cell_type": "code",
      "metadata": {
        "id": "K_qiUJWsHv17",
        "colab_type": "code",
        "colab": {
          "base_uri": "https://localhost:8080/",
          "height": 225
        },
        "outputId": "aff76c0d-f7d9-4e45-f240-d1f1fb374514"
      },
      "source": [
        "import numpy as np\n",
        "from array import *\n",
        "Arr_Angles = []\n",
        "\n",
        "n=int(input(\"Enter the number of angles to be entered in an array:\"))\n",
        "\n",
        "for i in range(n):\n",
        "  x=float(input(\"Enter next angle in degrees\"))\n",
        "  Arr_Angles.append(x)\n",
        "InputAngles = np.array(Arr_Angles)\n",
        "print(InputAngles)\n",
        "print(\"sine: array of angles given in degrees\")\n",
        "print(np.sin((InputAngles)*np.pi/180))\n",
        "print(\"cosine: array of angles given in degrees\")\n",
        "print(np.cos((InputAngles)*np.pi/180))\n",
        "print(\"tangent: array of angles given in degrees\")\n",
        "print(np.tan(InputAngles*np.pi/180))"
      ],
      "execution_count": 25,
      "outputs": [
        {
          "output_type": "stream",
          "text": [
            "Enter the number of angles to be entered in an array:4\n",
            "Enter next angle in degrees30\n",
            "Enter next angle in degrees45\n",
            "Enter next angle in degrees60\n",
            "Enter next angle in degrees90\n",
            "[30. 45. 60. 90.]\n",
            "sine: array of angles given in degrees\n",
            "[0.5        0.70710678 0.8660254  1.        ]\n",
            "cosine: array of angles given in degrees\n",
            "[8.66025404e-01 7.07106781e-01 5.00000000e-01 6.12323400e-17]\n",
            "tangent: array of angles given in degrees\n",
            "[5.77350269e-01 1.00000000e+00 1.73205081e+00 1.63312394e+16]\n"
          ],
          "name": "stdout"
        }
      ]
    },
    {
      "cell_type": "markdown",
      "metadata": {
        "id": "45Xk754DVncb",
        "colab_type": "text"
      },
      "source": [
        "Answer 6) Write a Pandas program to create and display a DataFrame from a specified dictionary data which has the\n",
        "index labels"
      ]
    },
    {
      "cell_type": "code",
      "metadata": {
        "id": "02QI86NUVtzG",
        "colab_type": "code",
        "colab": {
          "base_uri": "https://localhost:8080/",
          "height": 208
        },
        "outputId": "ec40b4a4-4ccd-43c4-e2da-d326708b6eab"
      },
      "source": [
        "import pandas as pd\n",
        "import numpy as np\n",
        "\n",
        "Student = {'Name': ['Ram', 'Rahim', 'Rini', 'James', 'Felix', 'Melinda', 'Amar', 'Abid', 'Anand', 'Micheal'],\n",
        "        'Age': [23, 25, 29, np.nan, 23, 27, 28, np.nan, 26, 27],\n",
        "        'Rating': [9, 8, 7, 6, 7.5, 8, 6.5, 9.5, 5, 6]}\n",
        "labels = [1,2,3,4,5,6,7,8,9,10]\n",
        "\n",
        "df = pd.DataFrame(Student , index=labels)\n",
        "print(df)"
      ],
      "execution_count": 26,
      "outputs": [
        {
          "output_type": "stream",
          "text": [
            "       Name   Age  Rating\n",
            "1       Ram  23.0     9.0\n",
            "2     Rahim  25.0     8.0\n",
            "3      Rini  29.0     7.0\n",
            "4     James   NaN     6.0\n",
            "5     Felix  23.0     7.5\n",
            "6   Melinda  27.0     8.0\n",
            "7      Amar  28.0     6.5\n",
            "8      Abid   NaN     9.5\n",
            "9     Anand  26.0     5.0\n",
            "10  Micheal  27.0     6.0\n"
          ],
          "name": "stdout"
        }
      ]
    },
    {
      "cell_type": "markdown",
      "metadata": {
        "id": "voi6pDUKYW2n",
        "colab_type": "text"
      },
      "source": [
        "Answer 7) Write a Pandas program to select the 'name' and 'score' columns from the following DataFrame."
      ]
    },
    {
      "cell_type": "code",
      "metadata": {
        "id": "G674qjxDYfHs",
        "colab_type": "code",
        "colab": {
          "base_uri": "https://localhost:8080/",
          "height": 225
        },
        "outputId": "fe25a592-bce1-4ec8-b7d7-e4db49d210fa"
      },
      "source": [
        "import pandas as pd\n",
        "import numpy as np\n",
        "\n",
        "Student = {'Name': ['Ram', 'Rahim', 'Rini', 'James', 'Felix', 'Melinda', 'Amar', 'Abid', 'Anand', 'Micheal'],\n",
        "        'Age': [23, 25, 29, np.nan, 23, 27, 28, np.nan, 26, 27],\n",
        "        'Rating': [9, 8, 7, 6, 7.5, 8, 6.5, 9.5, 5, 6],\n",
        "        'Score' : [250,240,260,270,280,290,230,220,255,260]}\n",
        "labels = [1,2,3,4,5,6,7,8,9,10]\n",
        "\n",
        "df = pd.DataFrame(Student , index=labels)\n",
        "print(\"Select specific columns:\")\n",
        "print(df[['Name', 'Score']])"
      ],
      "execution_count": 29,
      "outputs": [
        {
          "output_type": "stream",
          "text": [
            "Select specific columns:\n",
            "       Name  Score\n",
            "1       Ram    250\n",
            "2     Rahim    240\n",
            "3      Rini    260\n",
            "4     James    270\n",
            "5     Felix    280\n",
            "6   Melinda    290\n",
            "7      Amar    230\n",
            "8      Abid    220\n",
            "9     Anand    255\n",
            "10  Micheal    260\n"
          ],
          "name": "stdout"
        }
      ]
    },
    {
      "cell_type": "code",
      "metadata": {
        "id": "HtYKKpPCdf42",
        "colab_type": "code",
        "colab": {}
      },
      "source": [
        ""
      ],
      "execution_count": null,
      "outputs": []
    },
    {
      "cell_type": "markdown",
      "metadata": {
        "id": "JHdQH4-iZM4B",
        "colab_type": "text"
      },
      "source": [
        "Answer 8) Write a Pandas program to join the two given dataframes along rows and assign all data."
      ]
    },
    {
      "cell_type": "code",
      "metadata": {
        "id": "sdbHDGy6ZUze",
        "colab_type": "code",
        "colab": {
          "base_uri": "https://localhost:8080/",
          "height": 208
        },
        "outputId": "70b92d4b-020a-4035-f1ae-251b66c45634"
      },
      "source": [
        "import pandas as pd\n",
        "import numpy as np\n",
        "\n",
        "Student1 = {'Name': ['Ram', 'Rahim', 'Rini', 'James', 'Felix'],\n",
        "        'Age': [23, 25, 29, np.nan, 23],\n",
        "        'Rating': [9, 8, 7, 6, 7.5],\n",
        "        'Score' : [250,240,260,270,280]}\n",
        "labels1 = [1,2,3,4,5]\n",
        "\n",
        "Student2 = {'Name': ['Melinda', 'Amar', 'Abid', 'Anand', 'Micheal'],\n",
        "        'Age': [27, 28, np.nan, 26, 27],\n",
        "        'Rating': [8, 6.5, 9.5, 5, 6],\n",
        "        'Score' : [290,230,220,255,260]}\n",
        "labels2 = [6,7,8,9,10]\n",
        "\n",
        "StudentData1 = pd.DataFrame(Student1 , index=labels1)\n",
        "StudentData2 = pd.DataFrame(Student2 , index=labels2)\n",
        "\n",
        "StudentEquivalentData = pd.concat([StudentData1, StudentData2])\n",
        "print(StudentEquivalentData)"
      ],
      "execution_count": 30,
      "outputs": [
        {
          "output_type": "stream",
          "text": [
            "       Name   Age  Rating  Score\n",
            "1       Ram  23.0     9.0    250\n",
            "2     Rahim  25.0     8.0    240\n",
            "3      Rini  29.0     7.0    260\n",
            "4     James   NaN     6.0    270\n",
            "5     Felix  23.0     7.5    280\n",
            "6   Melinda  27.0     8.0    290\n",
            "7      Amar  28.0     6.5    230\n",
            "8      Abid   NaN     9.5    220\n",
            "9     Anand  26.0     5.0    255\n",
            "10  Micheal  27.0     6.0    260\n"
          ],
          "name": "stdout"
        }
      ]
    },
    {
      "cell_type": "markdown",
      "metadata": {
        "id": "xIwf9hEmdCYA",
        "colab_type": "text"
      },
      "source": [
        "Answer 9) Write a Pandas program to detect missing values of a given DataFrame. Display True or False."
      ]
    },
    {
      "cell_type": "code",
      "metadata": {
        "id": "xdK7Qyupdpz3",
        "colab_type": "code",
        "colab": {
          "base_uri": "https://localhost:8080/",
          "height": 433
        },
        "outputId": "75f6037c-c4bc-4187-8c24-25f14ca36887"
      },
      "source": [
        "import pandas as pd\n",
        "import numpy as np\n",
        "\n",
        "Student = {'Name': ['Ram', 'Rahim', 'Rini', 'James', 'Felix', 'Melinda', 'Amar', 'Abid', 'Anand', 'Micheal'],\n",
        "        'Age': [23, 25, 29, np.nan, 23, 27, 28, np.nan, 26, 27],\n",
        "        'Rating': [9, 8, 7, 6, np.nan, 8, np.nan, 9.5, 5, 6],\n",
        "        'Score' : [250,240,260,np.nan,280,290,230,np.nan,255,260]}\n",
        "labels = [1,2,3,4,5,6,7,8,9,10]\n",
        "\n",
        "StudentData = pd.DataFrame(Student , index=labels)\n",
        "print(\"Original Data:\")\n",
        "print(StudentData)\n",
        "\n",
        "print(\"Check the data missing in given data return False if data is not present else true:\")\n",
        "print(StudentData.isna())"
      ],
      "execution_count": 36,
      "outputs": [
        {
          "output_type": "stream",
          "text": [
            "Original Data:\n",
            "       Name   Age  Rating  Score\n",
            "1       Ram  23.0     9.0  250.0\n",
            "2     Rahim  25.0     8.0  240.0\n",
            "3      Rini  29.0     7.0  260.0\n",
            "4     James   NaN     6.0    NaN\n",
            "5     Felix  23.0     NaN  280.0\n",
            "6   Melinda  27.0     8.0  290.0\n",
            "7      Amar  28.0     NaN  230.0\n",
            "8      Abid   NaN     9.5    NaN\n",
            "9     Anand  26.0     5.0  255.0\n",
            "10  Micheal  27.0     6.0  260.0\n",
            "Check the data missing in given data return False if data is not present else true:\n",
            "     Name    Age  Rating  Score\n",
            "1   False  False   False  False\n",
            "2   False  False   False  False\n",
            "3   False  False   False  False\n",
            "4   False   True   False   True\n",
            "5   False  False    True  False\n",
            "6   False  False   False  False\n",
            "7   False  False    True  False\n",
            "8   False   True   False   True\n",
            "9   False  False   False  False\n",
            "10  False  False   False  False\n"
          ],
          "name": "stdout"
        }
      ]
    },
    {
      "cell_type": "markdown",
      "metadata": {
        "id": "kgCN1VQnfAF8",
        "colab_type": "text"
      },
      "source": [
        "Answer 10) Write a Pandas program to create and display a one-dimensional array-like object containing an array of\n",
        "data."
      ]
    },
    {
      "cell_type": "code",
      "metadata": {
        "id": "JD4tj1JkfEH7",
        "colab_type": "code",
        "colab": {
          "base_uri": "https://localhost:8080/",
          "height": 121
        },
        "outputId": "0b123f56-2a95-43cc-9cc6-52e626c7adf9"
      },
      "source": [
        "import pandas as pd\n",
        "Animals = pd.Series([\"cow\", \"dog\", \"tiger\", \"lion\", \"monkey\"])\n",
        "print(Animals)"
      ],
      "execution_count": 38,
      "outputs": [
        {
          "output_type": "stream",
          "text": [
            "0       cow\n",
            "1       dog\n",
            "2     tiger\n",
            "3      lion\n",
            "4    monkey\n",
            "dtype: object\n"
          ],
          "name": "stdout"
        }
      ]
    }
  ]
}