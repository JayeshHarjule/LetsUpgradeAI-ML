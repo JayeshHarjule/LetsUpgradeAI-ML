{
  "nbformat": 4,
  "nbformat_minor": 0,
  "metadata": {
    "colab": {
      "name": "Untitled6.ipynb",
      "provenance": [],
      "authorship_tag": "ABX9TyN46R1M4E+/gASb0mYdj1sl",
      "include_colab_link": true
    },
    "kernelspec": {
      "name": "python3",
      "display_name": "Python 3"
    }
  },
  "cells": [
    {
      "cell_type": "markdown",
      "metadata": {
        "id": "view-in-github",
        "colab_type": "text"
      },
      "source": [
        "<a href=\"https://colab.research.google.com/github/JayeshHarjule/LetsUpgradeAI-ML/blob/master/Day8.ipynb\" target=\"_parent\"><img src=\"https://colab.research.google.com/assets/colab-badge.svg\" alt=\"Open In Colab\"/></a>"
      ]
    },
    {
      "cell_type": "markdown",
      "metadata": {
        "id": "q3XwVk7sTybM",
        "colab_type": "text"
      },
      "source": [
        "Answer 1: Recreate “NB 21 map, filter, lambda.ipynb” to try different variations or perform different calculations from\n",
        "the ones that are in the NB"
      ]
    },
    {
      "cell_type": "markdown",
      "metadata": {
        "id": "Lz9MHHK7FvrI",
        "colab_type": "text"
      },
      "source": [
        "# **Introduction to map(),filter(),reduce()**\n",
        "\n",
        "map(), filter() and reduce() are built-in functions of Python. \n",
        "\n",
        "\n",
        "\n",
        "1.  **map()** - The map() function executes a specified function for each item in an iterable. The item is provided as a parameter to the function.\n",
        "\n",
        "**Syntax**:-\n",
        "\n",
        "map(function, iterables) where, \n",
        "*   function (is mandatory) that defines function to be executed for each item in iterable\n",
        "\n",
        "*   iterable(is mandatory) that defines sequence, collection or an iterator object.\n",
        "\n",
        "\n",
        "\n",
        "\n",
        "\n",
        "\n",
        "\n",
        "\n"
      ]
    },
    {
      "cell_type": "code",
      "metadata": {
        "id": "UsYpvHk_IA3j",
        "colab_type": "code",
        "colab": {
          "base_uri": "https://localhost:8080/",
          "height": 35
        },
        "outputId": "dc065f2a-6287-4ad6-d126-d8ee5b1d0eea"
      },
      "source": [
        "# Example 1 - Write a program to sum the numbers at indices from 2 lists\n",
        "#Function to add\n",
        "def add(a,b):\n",
        "  return a+b\n",
        "#Main code\n",
        "x = map(add, [1,2,3,4], [2,2,2,2] )\n",
        "print(list(x))"
      ],
      "execution_count": 1,
      "outputs": [
        {
          "output_type": "stream",
          "text": [
            "[3, 4, 5, 6]\n"
          ],
          "name": "stdout"
        }
      ]
    },
    {
      "cell_type": "code",
      "metadata": {
        "id": "Gay_g40-EuAW",
        "colab_type": "code",
        "colab": {
          "base_uri": "https://localhost:8080/",
          "height": 35
        },
        "outputId": "014ab6a5-3a48-48df-b803-2e507fecbfae"
      },
      "source": [
        "#Example 2 - Write a program to find the square root of the numbers provided in list\n",
        "#Function to find square root\n",
        "def sqrt(a):\n",
        "  return a**(1/2)\n",
        "# Main code\n",
        "x= map(sqrt,[4,9,25,36])\n",
        "print(list(x))"
      ],
      "execution_count": 2,
      "outputs": [
        {
          "output_type": "stream",
          "text": [
            "[2.0, 3.0, 5.0, 6.0]\n"
          ],
          "name": "stdout"
        }
      ]
    },
    {
      "cell_type": "markdown",
      "metadata": {
        "id": "P3LG42azLvPK",
        "colab_type": "text"
      },
      "source": [
        "\n",
        "2.   **filter()** -The filter() function returns an iterator where the items are filtered through a function to test if the item fulfils the condition mentioned in function i.e. filter function will return only the values that satisfies the function\n",
        "\n",
        "**Syntax**:-\n",
        "\n",
        "filter(function, iterable) where,\n",
        "*   function represents a function to be run for each item in the iterable\n",
        "*   iterable reperesents the iterable to be filtered\n",
        "\n",
        "\n",
        "\n",
        "\n"
      ]
    },
    {
      "cell_type": "code",
      "metadata": {
        "id": "5S-C9xO8M3Ij",
        "colab_type": "code",
        "colab": {
          "base_uri": "https://localhost:8080/",
          "height": 52
        },
        "outputId": "1a84be6c-18d0-423d-f0cc-18af68525a15"
      },
      "source": [
        "#Example 1 - Write a program to find the square root of the numbers provided in list if number is greater than 5 \n",
        "#Function to find square root\n",
        "def sqrt(a):\n",
        "  if a>5:\n",
        "    return a**(1/2)\n",
        "# Main code\n",
        "x= filter(sqrt,[4,9,25,36])\n",
        "print(\"Output with filter function:\",list(x)) \n",
        "y=map(sqrt,[1,3,4,9,16,25])\n",
        "print(\"Output without filter function:\",list(y))\n"
      ],
      "execution_count": 5,
      "outputs": [
        {
          "output_type": "stream",
          "text": [
            "Output with filter function: [9, 25, 36]\n",
            "Output without filter function: [None, None, None, 3.0, 4.0, 5.0]\n"
          ],
          "name": "stdout"
        }
      ]
    },
    {
      "cell_type": "markdown",
      "metadata": {
        "id": "yLcaCEtNPD_r",
        "colab_type": "text"
      },
      "source": [
        "3.   **reduce()**- It applies some other function to a list that are passed as a parameter to it and finally return a single value.\n",
        "\n",
        "**Syntax** :-\n",
        "\n",
        "reduce(function, iterables) where,\n",
        "*   function reperesnts a function to be run on all list elements passed in the iterables.\n",
        "*   iterable represents the sequence of list on which the function is run.\n",
        "\n",
        "Working of reduce() function is as follows - \n",
        "1. At first step, first two elements of sequence are picked and the result is obtained.\n",
        "2. Next step is to apply the same function to the previously attained result and the number just succeeding the second element and the result is again stored.\n",
        "3. This process continues till no more elements are left in the container.\n",
        "4. The final returned result is returned and printed on console\n",
        "\n",
        "\n",
        "\n",
        "\n",
        "\n",
        "\n",
        "\n"
      ]
    },
    {
      "cell_type": "code",
      "metadata": {
        "id": "W3Uwd2i6SLqw",
        "colab_type": "code",
        "colab": {
          "base_uri": "https://localhost:8080/",
          "height": 87
        },
        "outputId": "c846dc6a-2abf-4faa-bcee-cad0a85a65c4"
      },
      "source": [
        "# python code to demonstrate working of reduce() \n",
        "  \n",
        "# importing functools for reduce() \n",
        "import functools \n",
        "# importing operator for operator functions \n",
        "import operator \n",
        "# initializing list \n",
        "lis = [ 1 , 3, 5, 6, 2, ] \n",
        "  \n",
        "# using reduce to compute sum of list \n",
        "print (\"The sum of the list elements is : \",end=\"\") \n",
        "print (functools.reduce(lambda a,b : a+b,lis)) \n",
        "  \n",
        "# using reduce to compute maximum element from list \n",
        "print (\"The maximum element of the list is : \",end=\"\") \n",
        "print (functools.reduce(lambda a,b : a if a > b else b,lis))\n",
        "\n",
        "# using reduce to compute product \n",
        "# using operator functions \n",
        "print (\"The product of list elements is : \",end=\"\") \n",
        "print (functools.reduce(operator.mul,lis))\n",
        "\n",
        "# using reduce to concatenate string \n",
        "print (\"The concatenated product is : \",end=\"\") \n",
        "print (functools.reduce(operator.add,[\"Program\",\" to\",\" demonstrate\",\" reduce() function.\"])) "
      ],
      "execution_count": 11,
      "outputs": [
        {
          "output_type": "stream",
          "text": [
            "The sum of the list elements is : 17\n",
            "The maximum element of the list is : 6\n",
            "The product of list elements is : 180\n",
            "The concatenated product is : Program to demonstrate reduce() function.\n"
          ],
          "name": "stdout"
        }
      ]
    },
    {
      "cell_type": "markdown",
      "metadata": {
        "id": "sG7Dnp5iTpuc",
        "colab_type": "text"
      },
      "source": [
        "Answer 2: Recreate your own Python NB for “Classes and Objects” from the pdf provided namely\n",
        "“Classes&Objects.pdf”"
      ]
    },
    {
      "cell_type": "markdown",
      "metadata": {
        "id": "PNyF7OMgWXS-",
        "colab_type": "text"
      },
      "source": [
        "# **Python ─ Classes and Objects**\n",
        "\n",
        "\n",
        "Python is object-oriented language. Creating and using classes and objects are easy. Before proceeding forward to understand Classes and objects, let us take a look at OOPs concepts and basic terminologies.\n",
        "\n",
        "**Class**: A user-defined prototype for an object that defines a set of attributes that characterize any object of the class. The attributes are data members(class variables and instance variables) and methods, accessed via dot notation.\n",
        "\n",
        "**Class variable**: A variable that is shared by all instances of a class. Class variables are defined within a class but outside any of the class's methods. Class variables are not used as frequently as instance variables are.\n",
        "\n",
        "**Data member**: A class variable or instance variable that holds data associated with a class and its objects.\n",
        "\n",
        "**Function overloading**: The assignment of more than one behavior to a\n",
        "particular function. The operation performed varies by the types of objects or arguments involved.\n",
        "\n",
        "**Instance variable**: A variable that is defined inside a method and belongs only to the current instance of a class.\n",
        "\n",
        "**Inheritance**: The transfer of the characteristics of a class to other classes that are derived from it.\n",
        "\n",
        "**Instance**: An individual object of a certain class. An object obj that belongs to a class Circle, for example, is an instance of the class Circle.\n",
        "\n",
        "**Instantiation**: The creation of an instance of a class.\n",
        "\n",
        "**Method**: A special kind of function that is defined in a class definition.\n",
        "\n",
        "**Object**: A unique instance of a data structure that's defined by its class. An object comprises both data members (class variables and instance variables) and methods.\n",
        "\n",
        "**Operator overloading**: The assignment of more than one function to a\n",
        "particular operator.\n",
        "\n",
        "\n"
      ]
    },
    {
      "cell_type": "markdown",
      "metadata": {
        "id": "5KutvDudYXgb",
        "colab_type": "text"
      },
      "source": [
        "Class creates a user-defined data structure, which holds its own data members and member functions, which can be accessed and used by creating an instance of that class. A class is like a blueprint for an object.\n",
        "\n",
        "Classes are created by keyword class.\n",
        "* Classes are created by keyword class\n",
        "* Attributes are the variables that belong to class.\n",
        "* Attributes are always public and can be accessed using dot (.) operator. Eg.: Myclass.Myattribute\n",
        "\n",
        "**Class Syntax :-**\n",
        "\n",
        "        class ClassName:\n",
        "       'Optional class documentation string'\n",
        "        class_suite\n",
        "\n"
      ]
    },
    {
      "cell_type": "code",
      "metadata": {
        "id": "FY_2-rIIaU0Z",
        "colab_type": "code",
        "colab": {
          "base_uri": "https://localhost:8080/",
          "height": 69
        },
        "outputId": "0e5118c8-076e-4869-b705-272c6c73086c"
      },
      "source": [
        "# Simple Python program to demonstrate class\n",
        "\n",
        "class Employee:\n",
        " 'Common base class for all employees'\n",
        " empCount = 0  #empCount is a class variable whose value is shared among all instances of a this class. This can be accessed as Employee.empCount from\n",
        "               #inside the class or outside the class.\n",
        " # _init_() is a class constructor that Python calls when you create a new instance of this class.\n",
        " def __init__(self, name, salary):\n",
        "    self.name = name\n",
        "    self.salary = salary\n",
        "    Employee.empCount += 1\n",
        "\n",
        " def displayCount(self):\n",
        "   print(\"Total Employee:\", Employee.empCount)\n",
        "\n",
        " def displayEmployee(self):\n",
        "   print(\"Name : \", self.name, \", Salary: \", self.salary)\n",
        "\n",
        " # Creating instance objects\n",
        " #\"Create first object of Employee class\"\n",
        "emp1 = Employee(\"Zara\", 2000)\n",
        "#\"Create second object of Employee class\"\n",
        "emp2 = Employee(\"Manni\", 5000)\n",
        "\n",
        "#For accessing the object's attributes use the dot operator with object.\n",
        "emp1.displayEmployee()\n",
        "emp2.displayEmployee()\n",
        "print (\"Total Employee:\", Employee.empCount)\n"
      ],
      "execution_count": 16,
      "outputs": [
        {
          "output_type": "stream",
          "text": [
            "Name :  Zara , Salary:  2000\n",
            "Name :  Manni , Salary:  5000\n",
            "Total Employee: 2\n"
          ],
          "name": "stdout"
        }
      ]
    },
    {
      "cell_type": "markdown",
      "metadata": {
        "id": "4cpR_xSgebGO",
        "colab_type": "text"
      },
      "source": [
        "The attributes of classes and objects can be added, removed or modified at anytime using below in-built functions-\n",
        "*   **getattr(obj, name[, default])** : to access the attribute of object.\n",
        "*   **hasattr(obj,name)** : to check if an attribute exists or not.\n",
        "*   **setattr(obj,name,value)** : to set an attribute. If attribute does not exist,then it would be created.\n",
        "*   **delattr(obj, name)** : to delete an attribute.\n",
        "\n",
        "For Example -\n",
        "     \n",
        "     hasattr(emp1, 'age') # Returns true if 'age' attribute exists\n",
        "     getattr(emp1, 'age') # Returns value of 'age' attribute\n",
        "     setattr(emp1, 'age', 8) # Set attribute 'age' at 8\n",
        "     delattr(empl, 'age') # Delete attribute 'age'\n",
        "\n",
        "\n"
      ]
    },
    {
      "cell_type": "code",
      "metadata": {
        "id": "pvJ9nLwue1XF",
        "colab_type": "code",
        "colab": {
          "base_uri": "https://localhost:8080/",
          "height": 235
        },
        "outputId": "aa5bafec-c6cb-4c12-8edb-ce5a53815b5e"
      },
      "source": [
        "# Python code to demonstrate \n",
        "# working of getattr() \n",
        "  \n",
        "# declaring class  \n",
        "class Student : \n",
        "    name = \"Jayesh\"\n",
        "    age = 24\n",
        "  \n",
        "# initializing object \n",
        "student1 = Student() \n",
        "  \n",
        "# use of getattr \n",
        "print(\"The name is \" + getattr(student1,'name')) \n",
        "  \n",
        "# use of getattr with default \n",
        "print(\"Description is \" + getattr(student1, 'description' , 'CS Portal')) \n",
        "  \n",
        "# use of getattr without default \n",
        "print(\"Motto is \" + getattr(student1, 'motto')) "
      ],
      "execution_count": 21,
      "outputs": [
        {
          "output_type": "stream",
          "text": [
            "The name is Jayesh\n",
            "Description is CS Portal\n"
          ],
          "name": "stdout"
        },
        {
          "output_type": "error",
          "ename": "AttributeError",
          "evalue": "ignored",
          "traceback": [
            "\u001b[0;31m---------------------------------------------------------------------------\u001b[0m",
            "\u001b[0;31mAttributeError\u001b[0m                            Traceback (most recent call last)",
            "\u001b[0;32m<ipython-input-21-fbe48df5b7fa>\u001b[0m in \u001b[0;36m<module>\u001b[0;34m()\u001b[0m\n\u001b[1;32m     17\u001b[0m \u001b[0;34m\u001b[0m\u001b[0m\n\u001b[1;32m     18\u001b[0m \u001b[0;31m# use of getattr without default\u001b[0m\u001b[0;34m\u001b[0m\u001b[0;34m\u001b[0m\u001b[0;34m\u001b[0m\u001b[0m\n\u001b[0;32m---> 19\u001b[0;31m \u001b[0mprint\u001b[0m\u001b[0;34m(\u001b[0m\u001b[0;34m\"Motto is \"\u001b[0m \u001b[0;34m+\u001b[0m \u001b[0mgetattr\u001b[0m\u001b[0;34m(\u001b[0m\u001b[0mstudent1\u001b[0m\u001b[0;34m,\u001b[0m \u001b[0;34m'motto'\u001b[0m\u001b[0;34m)\u001b[0m\u001b[0;34m)\u001b[0m\u001b[0;34m\u001b[0m\u001b[0;34m\u001b[0m\u001b[0m\n\u001b[0m",
            "\u001b[0;31mAttributeError\u001b[0m: 'Student' object has no attribute 'motto'"
          ]
        }
      ]
    },
    {
      "cell_type": "code",
      "metadata": {
        "id": "8fpA8oH4i-wl",
        "colab_type": "code",
        "colab": {
          "base_uri": "https://localhost:8080/",
          "height": 52
        },
        "outputId": "cf2b8816-d022-4009-cea4-4352d11d048b"
      },
      "source": [
        "# Python code to demonstrate \n",
        "# working of hasattr() \n",
        "  \n",
        "# declaring class  \n",
        "class Student : \n",
        "    name = \"Raman\"\n",
        "    age = 26\n",
        "  \n",
        "# initializing object \n",
        "student1 = Student() \n",
        "  \n",
        "# using hasattr() to check name \n",
        "print (\"Does name exist ? \" + str(hasattr(student1, 'name'))) \n",
        "  \n",
        "# using hasattr() to check motto \n",
        "print (\"Does motto exist ? \" + str(hasattr(student1, 'motto'))) \n"
      ],
      "execution_count": 23,
      "outputs": [
        {
          "output_type": "stream",
          "text": [
            "Does name exist ? True\n",
            "Does motto exist ? False\n"
          ],
          "name": "stdout"
        }
      ]
    },
    {
      "cell_type": "code",
      "metadata": {
        "id": "jrTwN48NjdBB",
        "colab_type": "code",
        "colab": {
          "base_uri": "https://localhost:8080/",
          "height": 52
        },
        "outputId": "a1f30289-2419-451b-8c90-50108928eaa3"
      },
      "source": [
        "# Python code to demonstrate \n",
        "# working of setattr() \n",
        "  \n",
        "# initializing class  \n",
        "class Student: \n",
        "    name = 'Raman'\n",
        "      \n",
        "# initializing object \n",
        "Student1 = Student() \n",
        "  \n",
        "# printing object before setattr \n",
        "print(\"Before setattr name : \", student1.name) \n",
        "  \n",
        "# using setattr to change name \n",
        "setattr(student1, 'name', 'Tiger') \n",
        "  \n",
        "# printing object after setattr \n",
        "print(\"After setattr name : \", student1.name)"
      ],
      "execution_count": 24,
      "outputs": [
        {
          "output_type": "stream",
          "text": [
            "Before setattr name :  Raman\n",
            "After setattr name :  Tiger\n"
          ],
          "name": "stdout"
        }
      ]
    },
    {
      "cell_type": "markdown",
      "metadata": {
        "id": "8FG8CaGQkKzA",
        "colab_type": "text"
      },
      "source": [
        "# **Built-In Class Attributes**"
      ]
    },
    {
      "cell_type": "markdown",
      "metadata": {
        "id": "qZ0kPpcakQ2d",
        "colab_type": "text"
      },
      "source": [
        "# **Destroying Objects (Garbage Collection)**\n",
        "\n",
        "Python deletes unneeded objects (built-in types or class instances) automatically to\n",
        "free the memory space. The process by which Python periodically reclaims blocks of\n",
        "memory that no longer are in use is termed Garbage Collection.\n",
        "\n",
        "Python's garbage collector runs during program execution and is triggered when an\n",
        "object's reference count reaches zero. An object's reference count changes as the\n",
        "number of aliases that point to it changes.\n",
        "\n",
        "An object's reference count increases when it is assigned a new name or placed in a\n",
        "container (list, tuple, or dictionary). The object's reference count decreases when it's\n",
        "deleted with del, its reference is reassigned, or its reference goes out of scope. When\n",
        "an object's reference count reaches zero, Python collects it automatically.\n",
        "\n",
        "**_del_() destructor** is a method that might be used to clean up any non-memory resources used by an instance."
      ]
    },
    {
      "cell_type": "code",
      "metadata": {
        "id": "OWwubkgrpP5A",
        "colab_type": "code",
        "colab": {
          "base_uri": "https://localhost:8080/",
          "height": 52
        },
        "outputId": "c139ecd1-aca5-4eb1-c980-bbd486a0a0bc"
      },
      "source": [
        "#The __del__() destructor is used to print the class name of an instance that is about to be\n",
        "#destroyed:\n",
        "\n",
        "#Consider below example\n",
        "\n",
        "#!/usr/bin/python\n",
        "class Point:\n",
        " def __init( self, x=0, y=0):\n",
        "   self.x = x\n",
        "   self.y = y\n",
        " def __del__(self):\n",
        "    class_name = self.__class__.__name__\n",
        "    print(class_name, \"destroyed\")\n",
        "pt1 = Point()\n",
        "pt2 = pt1\n",
        "pt3 = pt1\n",
        "print(id(pt1), id(pt2), id(pt3)) # prints the ids of the obejcts\n",
        "del pt1\n",
        "del pt2\n",
        "del pt3\n",
        "\n",
        "\n",
        "\n"
      ],
      "execution_count": 37,
      "outputs": [
        {
          "output_type": "stream",
          "text": [
            "140562827079632 140562827079632 140562827079632\n",
            "Point destroyed\n"
          ],
          "name": "stdout"
        }
      ]
    },
    {
      "cell_type": "markdown",
      "metadata": {
        "id": "dlGZgDXFkXrk",
        "colab_type": "text"
      },
      "source": [
        "# **Class Inheritance**\n",
        "\n",
        "Inheritance is the capability of one class to derive or inherit the properties from another class. The benefits of inheritance are:\n",
        "\n",
        "\n",
        "*   It represents real-world relationships well.\n",
        "*   It provides **reusability** of a code. We don’t have to write the same code again and again. Also, it allows us to add more features to a class without modifying it.\n",
        "*   It is transitive in nature, which means that if class B inherits from another class A, then all the subclasses of B would automatically inherit from class A.\n",
        "\n",
        "\n",
        "\n",
        "\n",
        "\n"
      ]
    },
    {
      "cell_type": "code",
      "metadata": {
        "id": "AttNT68boMT4",
        "colab_type": "code",
        "colab": {
          "base_uri": "https://localhost:8080/",
          "height": 52
        },
        "outputId": "31ef9d44-0b95-444e-c8c3-f126f8c8fcff"
      },
      "source": [
        "#A Python program to demonstrate inheritance \n",
        "  \n",
        "# Base or Super class. Note object in bracket.\n",
        "\n",
        "class Person(object):\n",
        "      \n",
        "    # Constructor\n",
        "    def __init__(self, name):\n",
        "        self.name = name\n",
        "  \n",
        "    # To get name\n",
        "    def getName(self):\n",
        "        return self.name\n",
        "  \n",
        "    # To check if this person is an employee\n",
        "    def isEmployee(self):\n",
        "        return False\n",
        "  \n",
        "  \n",
        "# Inherited or Subclass (Note Person in bracket)\n",
        "class Employee(Person):\n",
        "  \n",
        "    # Here we return true\n",
        "    def isEmployee(self):\n",
        "        return True\n",
        "  \n",
        "# Driver code\n",
        "emp = Person(\"Ramesh\")  # An Object of Person\n",
        "print(emp.getName(), emp.isEmployee())\n",
        "  \n",
        "emp = Employee(\"Kamal\") # An Object of Employee\n",
        "print(emp.getName(), emp.isEmployee())"
      ],
      "execution_count": 36,
      "outputs": [
        {
          "output_type": "stream",
          "text": [
            "Ramesh False\n",
            "Kamal True\n"
          ],
          "name": "stdout"
        }
      ]
    },
    {
      "cell_type": "markdown",
      "metadata": {
        "id": "VpDQmWhykdkt",
        "colab_type": "text"
      },
      "source": [
        "# **Overriding Methods**\n",
        "\n",
        "You can always override your parent class methods. One reason for overriding\n",
        "parent's methods is because you may want special or different functionality in your\n",
        "subclass."
      ]
    },
    {
      "cell_type": "code",
      "metadata": {
        "id": "ejWBiOovnHsF",
        "colab_type": "code",
        "colab": {
          "base_uri": "https://localhost:8080/",
          "height": 35
        },
        "outputId": "c4cadc35-b6bc-4bb7-8098-e151f966f361"
      },
      "source": [
        "#!/usr/bin/python\n",
        "\n",
        "class Parent: # define parent class\n",
        " def myMethod(self):\n",
        "   print('Calling parent method')\n",
        "\n",
        "class Child(Parent): # define child class\n",
        " def myMethod(self):\n",
        "   print('Calling child method')\n",
        "   \n",
        "c = Child() # instance of child\n",
        "c.myMethod() # child calls overridden method"
      ],
      "execution_count": 33,
      "outputs": [
        {
          "output_type": "stream",
          "text": [
            "Calling child method\n"
          ],
          "name": "stdout"
        }
      ]
    },
    {
      "cell_type": "markdown",
      "metadata": {
        "id": "KF_LKppekrtG",
        "colab_type": "text"
      },
      "source": [
        "# **Overloading Operators**\n",
        "\n",
        "Suppose you have created a Vector class to represent two-dimensional vectors, what\n",
        "happens when you use the plus operator to add them? Most likely Python will yell at\n",
        "you.\n",
        "\n",
        "\n",
        "You could, however, define the __add__ method in your class to perform vector\n",
        "addition and then the plus operator would behave as per expectation:"
      ]
    },
    {
      "cell_type": "code",
      "metadata": {
        "id": "Spu2mjhgkxZr",
        "colab_type": "code",
        "colab": {
          "base_uri": "https://localhost:8080/",
          "height": 35
        },
        "outputId": "621299fa-6c9b-4e39-9473-a119068e3abe"
      },
      "source": [
        "#Program to display overloading operators\n",
        "#!/usr/bin/python\n",
        "class Vector:\n",
        " def __init__(self, a, b):\n",
        "   self.a = a\n",
        "   self.b = b\n",
        " def __str__(self):\n",
        "    return 'Vector (%d, %d)' % (self.a, self.b)\n",
        "\n",
        " def __add__(self,other):\n",
        "   return Vector(self.a + other.a, self.b + other.b)\n",
        "v1 = Vector(2,10)\n",
        "v2 = Vector(5,-2)\n",
        "print(v1 + v2)"
      ],
      "execution_count": 32,
      "outputs": [
        {
          "output_type": "stream",
          "text": [
            "Vector (7, 8)\n"
          ],
          "name": "stdout"
        }
      ]
    },
    {
      "cell_type": "markdown",
      "metadata": {
        "id": "gkV6nw_4kxnF",
        "colab_type": "text"
      },
      "source": [
        "# **Data Hiding**"
      ]
    },
    {
      "cell_type": "code",
      "metadata": {
        "id": "foex5WW8k1_j",
        "colab_type": "code",
        "colab": {
          "base_uri": "https://localhost:8080/",
          "height": 235
        },
        "outputId": "7ddae4fc-f526-41c9-c861-18d1b81b1ff1"
      },
      "source": [
        "#!/usr/bin/python\n",
        "class JustCounter:\n",
        " __secretCount = 0\n",
        "\n",
        " def count(self):\n",
        "    self.__secretCount += 1\n",
        "    print(self.__secretCount)\n",
        "counter = JustCounter()\n",
        "counter.count()\n",
        "counter.count()\n",
        "print(counter.__secretCount)"
      ],
      "execution_count": 28,
      "outputs": [
        {
          "output_type": "stream",
          "text": [
            "1\n",
            "2\n"
          ],
          "name": "stdout"
        },
        {
          "output_type": "error",
          "ename": "AttributeError",
          "evalue": "ignored",
          "traceback": [
            "\u001b[0;31m---------------------------------------------------------------------------\u001b[0m",
            "\u001b[0;31mAttributeError\u001b[0m                            Traceback (most recent call last)",
            "\u001b[0;32m<ipython-input-28-91725fd45035>\u001b[0m in \u001b[0;36m<module>\u001b[0;34m()\u001b[0m\n\u001b[1;32m      9\u001b[0m \u001b[0mcounter\u001b[0m\u001b[0;34m.\u001b[0m\u001b[0mcount\u001b[0m\u001b[0;34m(\u001b[0m\u001b[0;34m)\u001b[0m\u001b[0;34m\u001b[0m\u001b[0;34m\u001b[0m\u001b[0m\n\u001b[1;32m     10\u001b[0m \u001b[0mcounter\u001b[0m\u001b[0;34m.\u001b[0m\u001b[0mcount\u001b[0m\u001b[0;34m(\u001b[0m\u001b[0;34m)\u001b[0m\u001b[0;34m\u001b[0m\u001b[0;34m\u001b[0m\u001b[0m\n\u001b[0;32m---> 11\u001b[0;31m \u001b[0mprint\u001b[0m\u001b[0;34m(\u001b[0m\u001b[0mcounter\u001b[0m\u001b[0;34m.\u001b[0m\u001b[0m__secretCount\u001b[0m\u001b[0;34m)\u001b[0m\u001b[0;34m\u001b[0m\u001b[0;34m\u001b[0m\u001b[0m\n\u001b[0m",
            "\u001b[0;31mAttributeError\u001b[0m: 'JustCounter' object has no attribute '__secretCount'"
          ]
        }
      ]
    },
    {
      "cell_type": "markdown",
      "metadata": {
        "id": "ly_y3CyNlWk4",
        "colab_type": "text"
      },
      "source": [
        "Python protects those members by internally changing the name to include the class\n",
        "name. You can access such attributes as **object._className__attrName**"
      ]
    },
    {
      "cell_type": "code",
      "metadata": {
        "id": "vBRSNgHllffL",
        "colab_type": "code",
        "colab": {
          "base_uri": "https://localhost:8080/",
          "height": 69
        },
        "outputId": "2a04664f-b251-49ab-f175-766823951aab"
      },
      "source": [
        "#Rerun the code by replacing counter.__secretCount with counter._JustCounter__secretCount\n",
        "#!/usr/bin/python\n",
        "class JustCounter:\n",
        " __secretCount = 0\n",
        "\n",
        " def count(self):\n",
        "    self.__secretCount += 1\n",
        "    print(self.__secretCount)\n",
        "counter = JustCounter()\n",
        "counter.count()\n",
        "counter.count()\n",
        "print(counter._JustCounter__secretCount)"
      ],
      "execution_count": 29,
      "outputs": [
        {
          "output_type": "stream",
          "text": [
            "1\n",
            "2\n",
            "2\n"
          ],
          "name": "stdout"
        }
      ]
    }
  ]
}