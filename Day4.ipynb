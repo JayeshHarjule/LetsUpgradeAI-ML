{
  "nbformat": 4,
  "nbformat_minor": 0,
  "metadata": {
    "colab": {
      "name": "Untitled1.ipynb",
      "provenance": [],
      "authorship_tag": "ABX9TyP+aMOjLRACuJNWOm41uX1J",
      "include_colab_link": true
    },
    "kernelspec": {
      "name": "python3",
      "display_name": "Python 3"
    }
  },
  "cells": [
    {
      "cell_type": "markdown",
      "metadata": {
        "id": "view-in-github",
        "colab_type": "text"
      },
      "source": [
        "<a href=\"https://colab.research.google.com/github/JayeshHarjule/LetsUpgradeAI-ML/blob/master/Day4.ipynb\" target=\"_parent\"><img src=\"https://colab.research.google.com/assets/colab-badge.svg\" alt=\"Open In Colab\"/></a>"
      ]
    },
    {
      "cell_type": "markdown",
      "metadata": {
        "id": "ACezv11QPd9g",
        "colab_type": "text"
      },
      "source": [
        "Answer 1) Program to demonstrate arithmetic operation on Complex Numbers :"
      ]
    },
    {
      "cell_type": "code",
      "metadata": {
        "id": "vjdYvggOPnbP",
        "colab_type": "code",
        "colab": {
          "base_uri": "https://localhost:8080/",
          "height": 87
        },
        "outputId": "11b18df0-2ade-4ef8-c85e-9c107d89f982"
      },
      "source": [
        "#Addition\n",
        "print(\"Addition of two complex numbers ->\",(5+3j)+(4-6j))\n",
        "#Subtraction\n",
        "print(\"Subtraction of two complex numbers ->\",(4+6j)-(1-4j))\n",
        "#Multiplication\n",
        "print(\"Multiplication of two complex numbers ->\",(2+3j)*(3-8j))\n",
        "#Division\n",
        "print(\"Division of two complex numbers ->\",(8+8j)/(4-6j))"
      ],
      "execution_count": 9,
      "outputs": [
        {
          "output_type": "stream",
          "text": [
            "Addition of two complex numbers -> (9-3j)\n",
            "Subtraction of two complex numbers -> (3+10j)\n",
            "Multiplication of two complex numbers -> (30-7j)\n",
            "Division of two complex numbers -> (-0.30769230769230776+1.5384615384615383j)\n"
          ],
          "name": "stdout"
        }
      ]
    },
    {
      "cell_type": "markdown",
      "metadata": {
        "id": "VHZYNt7rQeVm",
        "colab_type": "text"
      },
      "source": [
        "Modulus operator is not supported in Python3.x. This results in error."
      ]
    },
    {
      "cell_type": "code",
      "metadata": {
        "id": "42CV0bnWSbhV",
        "colab_type": "code",
        "colab": {
          "base_uri": "https://localhost:8080/",
          "height": 183
        },
        "outputId": "0ea5757b-f413-4ab8-ac0f-d7933f6c96e1"
      },
      "source": [
        "#Modulus operation\n",
        "print(\"Modulus operation on two complex numbers ->\", (7+3j)%(3+2j))\n"
      ],
      "execution_count": 10,
      "outputs": [
        {
          "output_type": "error",
          "ename": "TypeError",
          "evalue": "ignored",
          "traceback": [
            "\u001b[0;31m---------------------------------------------------------------------------\u001b[0m",
            "\u001b[0;31mTypeError\u001b[0m                                 Traceback (most recent call last)",
            "\u001b[0;32m<ipython-input-10-aa076826303b>\u001b[0m in \u001b[0;36m<module>\u001b[0;34m()\u001b[0m\n\u001b[1;32m      1\u001b[0m \u001b[0;31m#Modulo operation\u001b[0m\u001b[0;34m\u001b[0m\u001b[0;34m\u001b[0m\u001b[0;34m\u001b[0m\u001b[0m\n\u001b[0;32m----> 2\u001b[0;31m \u001b[0mprint\u001b[0m\u001b[0;34m(\u001b[0m\u001b[0;34m\"Modulus operation on two complex numbers ->\"\u001b[0m\u001b[0;34m,\u001b[0m \u001b[0;34m(\u001b[0m\u001b[0;36m7\u001b[0m\u001b[0;34m+\u001b[0m\u001b[0;36m3j\u001b[0m\u001b[0;34m)\u001b[0m\u001b[0;34m%\u001b[0m\u001b[0;34m(\u001b[0m\u001b[0;36m3\u001b[0m\u001b[0;34m+\u001b[0m\u001b[0;36m2j\u001b[0m\u001b[0;34m)\u001b[0m\u001b[0;34m)\u001b[0m\u001b[0;34m\u001b[0m\u001b[0;34m\u001b[0m\u001b[0m\n\u001b[0m",
            "\u001b[0;31mTypeError\u001b[0m: can't mod complex numbers."
          ]
        }
      ]
    },
    {
      "cell_type": "markdown",
      "metadata": {
        "id": "6qKswTwySgjM",
        "colab_type": "text"
      },
      "source": [
        "Floor Division is not supported in Python3.x. This results in error."
      ]
    },
    {
      "cell_type": "code",
      "metadata": {
        "id": "X7Zf8nx7Sq5k",
        "colab_type": "code",
        "colab": {
          "base_uri": "https://localhost:8080/",
          "height": 183
        },
        "outputId": "f5474fdd-8c6e-46b4-ba6c-3121e2d3b03b"
      },
      "source": [
        "#Floor Division\n",
        "print(\"Floor Division on two complex numbers ->\", (7+3j)//(3+2j))"
      ],
      "execution_count": 11,
      "outputs": [
        {
          "output_type": "error",
          "ename": "TypeError",
          "evalue": "ignored",
          "traceback": [
            "\u001b[0;31m---------------------------------------------------------------------------\u001b[0m",
            "\u001b[0;31mTypeError\u001b[0m                                 Traceback (most recent call last)",
            "\u001b[0;32m<ipython-input-11-a91865cfd39d>\u001b[0m in \u001b[0;36m<module>\u001b[0;34m()\u001b[0m\n\u001b[1;32m      1\u001b[0m \u001b[0;31m#Floor Division\u001b[0m\u001b[0;34m\u001b[0m\u001b[0;34m\u001b[0m\u001b[0;34m\u001b[0m\u001b[0m\n\u001b[0;32m----> 2\u001b[0;31m \u001b[0mprint\u001b[0m\u001b[0;34m(\u001b[0m\u001b[0;34m\"Floor Division on two complex numbers ->\"\u001b[0m\u001b[0;34m,\u001b[0m \u001b[0;34m(\u001b[0m\u001b[0;36m7\u001b[0m\u001b[0;34m+\u001b[0m\u001b[0;36m3j\u001b[0m\u001b[0;34m)\u001b[0m\u001b[0;34m//\u001b[0m\u001b[0;34m(\u001b[0m\u001b[0;36m3\u001b[0m\u001b[0;34m+\u001b[0m\u001b[0;36m2j\u001b[0m\u001b[0;34m)\u001b[0m\u001b[0;34m)\u001b[0m\u001b[0;34m\u001b[0m\u001b[0;34m\u001b[0m\u001b[0m\n\u001b[0m",
            "\u001b[0;31mTypeError\u001b[0m: can't take floor of complex number."
          ]
        }
      ]
    },
    {
      "cell_type": "markdown",
      "metadata": {
        "id": "ZDHfabI1Sx2Q",
        "colab_type": "text"
      },
      "source": [
        "Answer 2)\n",
        "\n",
        "In simple words, range() means looping i.e. to generate the series of numbers within a specified range. In Python, range() is a built-in function. It is used when a user needs to perform an action for a specific number of times. In Python(2.x), range() function was known as xrange(). In Python(3x) it has got renamed to range(). This function basically generates sequence of numbers.\n",
        "\n",
        "range() is commonly used in for looping. Most common use of range() function in Python is to iterate sequence type with for and while loop.Hence knowledge of range() function plays a vital role when dealing with any kind of Python code.\n",
        "\n",
        "**Definition of range() function** -\n",
        "\n",
        "The range() function returns a sequence of numbers, starting from 0 by default, and increments by 1 (by default), and stops before a specified number.\n",
        "\n",
        "In simple words, range() allows user to generate a series of numbers within a given range. \n",
        "\n",
        "**Syntax of range()** -\n",
        "range(start, stop, step)\n",
        "\n",
        "**Arguments in range() function** -\n",
        "1. **start**: accepts integer value that indicates from where the series of numbers will begin\n",
        "2. **stop**: accepts integer value that indicates from where the series of numbers will end\n",
        "3. **step**:  accepts integer value that indicates how big the difference will be between one number and the next."
      ]
    },
    {
      "cell_type": "code",
      "metadata": {
        "id": "rs90mgHrZhlL",
        "colab_type": "code",
        "colab": {
          "base_uri": "https://localhost:8080/",
          "height": 312
        },
        "outputId": "2936229b-dc22-496e-e0a6-101ff2b0395f"
      },
      "source": [
        "# Python Program to demonstrate range() function:  \n",
        "  \n",
        "# printing a number \n",
        "for i in range(10): \n",
        "    print(i) \n",
        "print()  \n",
        "# using range for iteration \n",
        "l = [10, 20, 30, 40] \n",
        "for i in range(len(l)): \n",
        "    print(l[i])\n",
        "print() \n",
        "\n",
        "# Sum of first 10 natural numbers \n",
        "sum = 0\n",
        "for i in range(1, 11): \n",
        "  sum = sum + i \n",
        "print(\"Sum of first 10 natural number = \", sum) "
      ],
      "execution_count": 19,
      "outputs": [
        {
          "output_type": "stream",
          "text": [
            "0\n",
            "1\n",
            "2\n",
            "3\n",
            "4\n",
            "5\n",
            "6\n",
            "7\n",
            "8\n",
            "9\n",
            "\n",
            "10\n",
            "20\n",
            "30\n",
            "40\n",
            "\n",
            "Sum of first 10 natural number =  55\n"
          ],
          "name": "stdout"
        }
      ]
    },
    {
      "cell_type": "markdown",
      "metadata": {
        "id": "eirt5hDmbD3_",
        "colab_type": "text"
      },
      "source": [
        "Answer 3) Program for problem statement - \n",
        "\n",
        "Consider two numbers. Perform their subtraction and if the result of subtraction is greater than 25, print\n",
        "their multiplication result else print their division result."
      ]
    },
    {
      "cell_type": "code",
      "metadata": {
        "id": "jnR3C2kYbYfO",
        "colab_type": "code",
        "colab": {
          "base_uri": "https://localhost:8080/",
          "height": 69
        },
        "outputId": "900aa098-8ab1-430f-e0a5-3b55c764fc2d"
      },
      "source": [
        "# Input two numbers\n",
        "a= int(input(\"Enter first number:\"))\n",
        "b= int(input(\"Enter second number:\"))\n",
        "#Perform subtraction\n",
        "result = a-b\n",
        "if result > 25:\n",
        "  print(\"first number multiplied by second number results in\",a*b)\n",
        "else:\n",
        "  print(\"first number divided by second number results in\", a/b)"
      ],
      "execution_count": 23,
      "outputs": [
        {
          "output_type": "stream",
          "text": [
            "Enter first number:50\n",
            "Enter second number:20\n",
            "first number multiplied by second number results in 1000\n"
          ],
          "name": "stdout"
        }
      ]
    },
    {
      "cell_type": "markdown",
      "metadata": {
        "id": "RS7mweVNc0ej",
        "colab_type": "text"
      },
      "source": [
        "Answer 4) Program for problem statement - \n",
        "\n",
        "Consider a list of 10 elements of integer values. If the number in the list is divisible by 2, print the result as\n",
        "\"square of that number minus 2\"."
      ]
    },
    {
      "cell_type": "code",
      "metadata": {
        "id": "gzKC0kwMdFLc",
        "colab_type": "code",
        "colab": {
          "base_uri": "https://localhost:8080/",
          "height": 121
        },
        "outputId": "37773ebd-2563-4566-89ef-0eebf25f7680"
      },
      "source": [
        "# Initialize the list:\n",
        "l=[1, 2, 3, 4, 5, 6, 7, 8, 9, 12]\n",
        "print(l)\n",
        "for i in l:\n",
        "  if i%2==0:\n",
        "    print(\"Square of\",i,\"minus 2 =\",(i**2)-2)\n"
      ],
      "execution_count": 42,
      "outputs": [
        {
          "output_type": "stream",
          "text": [
            "[1, 2, 3, 4, 5, 6, 7, 8, 9, 12]\n",
            "Square of 2 minus 2 = 2\n",
            "Square of 4 minus 2 = 14\n",
            "Square of 6 minus 2 = 34\n",
            "Square of 8 minus 2 = 62\n",
            "Square of 12 minus 2 = 142\n"
          ],
          "name": "stdout"
        }
      ]
    },
    {
      "cell_type": "markdown",
      "metadata": {
        "id": "jct9yIx9hVJq",
        "colab_type": "text"
      },
      "source": [
        "Answer 5) Program for problem statement - \n",
        "\n",
        "Consider a list of 10 elements. Print all the elements in the list which are greater than 7 when that number\n",
        "is divided 2."
      ]
    },
    {
      "cell_type": "code",
      "metadata": {
        "id": "UzwDkfk1hhkl",
        "colab_type": "code",
        "colab": {
          "base_uri": "https://localhost:8080/",
          "height": 69
        },
        "outputId": "8ead978e-e550-42d1-bd9b-f844e09e71c4"
      },
      "source": [
        "# Initialize the list:\n",
        "l=[1, 2, 34, 4, 52, 6, 7, 82, 9, 12]\n",
        "for i in l:\n",
        "  if i/2>7:\n",
        "    print(i)"
      ],
      "execution_count": 37,
      "outputs": [
        {
          "output_type": "stream",
          "text": [
            "34\n",
            "52\n",
            "82\n"
          ],
          "name": "stdout"
        }
      ]
    }
  ]
}