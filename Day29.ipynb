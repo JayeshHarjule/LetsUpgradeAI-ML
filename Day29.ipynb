{
  "nbformat": 4,
  "nbformat_minor": 0,
  "metadata": {
    "colab": {
      "name": "Untitled13.ipynb",
      "provenance": [],
      "authorship_tag": "ABX9TyMmAojHBTv2k8mG3xKuf4a4",
      "include_colab_link": true
    },
    "kernelspec": {
      "name": "python3",
      "display_name": "Python 3"
    }
  },
  "cells": [
    {
      "cell_type": "markdown",
      "metadata": {
        "id": "view-in-github",
        "colab_type": "text"
      },
      "source": [
        "<a href=\"https://colab.research.google.com/github/JayeshHarjule/LetsUpgradeAI-ML/blob/master/Day29.ipynb\" target=\"_parent\"><img src=\"https://colab.research.google.com/assets/colab-badge.svg\" alt=\"Open In Colab\"/></a>"
      ]
    },
    {
      "cell_type": "markdown",
      "metadata": {
        "id": "TKW2DYRdjNub"
      },
      "source": [
        "**Answer 1)**\n",
        "\n",
        "**Problem Statement:**  Try to create the backpropagation and feedforward in python by creating function."
      ]
    },
    {
      "cell_type": "code",
      "metadata": {
        "id": "hmaeymErjDkK",
        "outputId": "388d0e53-e46a-4da1-9889-fdb551adf228",
        "colab": {
          "base_uri": "https://localhost:8080/",
          "height": 225
        }
      },
      "source": [
        "import numpy as np\n",
        "# X = (hours working, hours lunch break), y = Productivity\n",
        "X = np.array(([7,2 ], [5, 4], [8, 1]), dtype=float)\n",
        "y = np.array(([87], [65], [95]), dtype=float)\n",
        "\n",
        "# scale units\n",
        "X = X/np.amax(X, axis=0) #maximum of X array\n",
        "y = y/100 # maximum test score is 100\n",
        "\n",
        "class NeuralNetwork(object):\n",
        "  def __init__(self):\n",
        "    #parameters\n",
        "    self.inputSize = 2\n",
        "    self.outputSize = 1\n",
        "    self.hiddenSize = 3\n",
        "\n",
        "    #weights\n",
        "    self.W1 = np.random.randn(self.inputSize, self.hiddenSize)  # (3X2) weight matrix from input to hidden layer\n",
        "    self.W2 = np.random.randn(self.hiddenSize, self.outputSize) # (3X1) weight matrix from hidden to output layer\n",
        "  \n",
        "  def feedForward(self, X):\n",
        "    #forward propogation through the network\n",
        "    self.z = np.dot(X, self.W1) # dot product of X(input) and first set of weights (W1)\n",
        "    self.z2 = self.sigmoid(self.z) #Activation function\n",
        "    self.z3 = np.dot(self.z2, self.W2) # dot product of hidden layer (z2) and second set of weights (W2)\n",
        "    output = self.sigmoid(self.z3)\n",
        "    return output\n",
        "\n",
        "  def sigmoid(self, s, deriv= False):\n",
        "    if(deriv== True):\n",
        "      return s*(1-s)\n",
        "    return 1/(1+ np.exp(-s))\n",
        "  \n",
        "  def backwardPropogate(self, X, y, output):\n",
        "    # backward propogate through network\n",
        "    self.output_error = y - output # error in output\n",
        "    self.output_delta = self.output_error * self.sigmoid(output, deriv = True)\n",
        "\n",
        "    self.z2_error = self.output_delta.dot(self.W2.T)\n",
        "    self.z2_delta = self.z2_error * self.sigmoid(self.z2, deriv = True)\n",
        "\n",
        "    self.W1 += X.T.dot(self.z2_delta) #adjusting first set of weights\n",
        "    self.W2 +=self.z2.T.dot(self.output_delta) # adjusting second set of weights\n",
        "  \n",
        "  def train(self, X, y):\n",
        "    output= self.feedForward(X)\n",
        "    self.backwardPropogate(X, y, output)\n",
        "\n",
        "NN = NeuralNetwork()\n",
        "\n",
        "for i in range(1000):\n",
        "  NN.train(X, y)\n",
        "\n",
        "\n",
        "print(\"Input: \" + str(X))\n",
        "print(\"Actual Output: \" + str(y))\n",
        "print(\"Loss: \" + str(np.mean(np.square(y - NN.feedForward(X)))))\n",
        "print(\"\\n\")\n",
        "print(\"Predicted Output:\" + str(NN.feedForward(X)))\n",
        "  \n",
        "\n",
        "    "
      ],
      "execution_count": 14,
      "outputs": [
        {
          "output_type": "stream",
          "text": [
            "Input: [[0.875 0.5  ]\n",
            " [0.625 1.   ]\n",
            " [1.    0.25 ]]\n",
            "Actual Output: [[0.87]\n",
            " [0.65]\n",
            " [0.95]]\n",
            "Loss: 6.279024900344277e-05\n",
            "\n",
            "\n",
            "Predicted Output:[[0.87174045]\n",
            " [0.65490967]\n",
            " [0.9373021 ]]\n"
          ],
          "name": "stdout"
        }
      ]
    }
  ]
}