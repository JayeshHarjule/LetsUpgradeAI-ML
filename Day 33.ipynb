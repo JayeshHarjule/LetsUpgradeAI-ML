{
  "nbformat": 4,
  "nbformat_minor": 0,
  "metadata": {
    "colab": {
      "name": "Untitled21.ipynb",
      "provenance": [],
      "authorship_tag": "ABX9TyPt+J7hAe2x65s3rTcD3yWv",
      "include_colab_link": true
    },
    "kernelspec": {
      "name": "python3",
      "display_name": "Python 3"
    }
  },
  "cells": [
    {
      "cell_type": "markdown",
      "metadata": {
        "id": "view-in-github",
        "colab_type": "text"
      },
      "source": [
        "<a href=\"https://colab.research.google.com/github/JayeshHarjule/LetsUpgradeAI-ML/blob/master/Day%2033.ipynb\" target=\"_parent\"><img src=\"https://colab.research.google.com/assets/colab-badge.svg\" alt=\"Open In Colab\"/></a>"
      ]
    },
    {
      "cell_type": "code",
      "metadata": {
        "colab": {
          "base_uri": "https://localhost:8080/"
        },
        "id": "uVavv_LJCbVR",
        "outputId": "204b525b-b90c-4a04-a238-ec1ce564a150"
      },
      "source": [
        "from sklearn import svm\n",
        "from sklearn.svm import SVR\n",
        "import matplotlib.pyplot as plt\n",
        "import numpy as np\n",
        "from sklearn.metrics import accuracy_score\n",
        "from sklearn.model_selection import train_test_split\n",
        "import os\n",
        "import pandas as pd\n",
        "\n",
        "df = pd.read_csv(\"/User_Data - Arindam Dev (1).csv\") \n",
        "print(df)\n"
      ],
      "execution_count": null,
      "outputs": [
        {
          "output_type": "stream",
          "text": [
            "      User ID  Gender  Age  EstimatedSalary  Purchased\n",
            "0    15624510    Male   19            19000          0\n",
            "1    15810944    Male   35            20000          0\n",
            "2    15668575  Female   26            43000          0\n",
            "3    15603246  Female   27            57000          0\n",
            "4    15804002    Male   19            76000          0\n",
            "..        ...     ...  ...              ...        ...\n",
            "395  15691863  Female   46            41000          1\n",
            "396  15706071    Male   51            23000          1\n",
            "397  15654296  Female   50            20000          1\n",
            "398  15755018    Male   36            33000          0\n",
            "399  15594041  Female   49            36000          1\n",
            "\n",
            "[400 rows x 5 columns]\n"
          ],
          "name": "stdout"
        }
      ]
    },
    {
      "cell_type": "code",
      "metadata": {
        "colab": {
          "base_uri": "https://localhost:8080/",
          "height": 202
        },
        "id": "3pfIfqCUESFL",
        "outputId": "62aff00f-c4a5-4a65-d4d7-74b05c6f4f46"
      },
      "source": [
        "df.head()"
      ],
      "execution_count": null,
      "outputs": [
        {
          "output_type": "execute_result",
          "data": {
            "text/html": [
              "<div>\n",
              "<style scoped>\n",
              "    .dataframe tbody tr th:only-of-type {\n",
              "        vertical-align: middle;\n",
              "    }\n",
              "\n",
              "    .dataframe tbody tr th {\n",
              "        vertical-align: top;\n",
              "    }\n",
              "\n",
              "    .dataframe thead th {\n",
              "        text-align: right;\n",
              "    }\n",
              "</style>\n",
              "<table border=\"1\" class=\"dataframe\">\n",
              "  <thead>\n",
              "    <tr style=\"text-align: right;\">\n",
              "      <th></th>\n",
              "      <th>User ID</th>\n",
              "      <th>Gender</th>\n",
              "      <th>Age</th>\n",
              "      <th>EstimatedSalary</th>\n",
              "      <th>Purchased</th>\n",
              "    </tr>\n",
              "  </thead>\n",
              "  <tbody>\n",
              "    <tr>\n",
              "      <th>0</th>\n",
              "      <td>15624510</td>\n",
              "      <td>Male</td>\n",
              "      <td>19</td>\n",
              "      <td>19000</td>\n",
              "      <td>0</td>\n",
              "    </tr>\n",
              "    <tr>\n",
              "      <th>1</th>\n",
              "      <td>15810944</td>\n",
              "      <td>Male</td>\n",
              "      <td>35</td>\n",
              "      <td>20000</td>\n",
              "      <td>0</td>\n",
              "    </tr>\n",
              "    <tr>\n",
              "      <th>2</th>\n",
              "      <td>15668575</td>\n",
              "      <td>Female</td>\n",
              "      <td>26</td>\n",
              "      <td>43000</td>\n",
              "      <td>0</td>\n",
              "    </tr>\n",
              "    <tr>\n",
              "      <th>3</th>\n",
              "      <td>15603246</td>\n",
              "      <td>Female</td>\n",
              "      <td>27</td>\n",
              "      <td>57000</td>\n",
              "      <td>0</td>\n",
              "    </tr>\n",
              "    <tr>\n",
              "      <th>4</th>\n",
              "      <td>15804002</td>\n",
              "      <td>Male</td>\n",
              "      <td>19</td>\n",
              "      <td>76000</td>\n",
              "      <td>0</td>\n",
              "    </tr>\n",
              "  </tbody>\n",
              "</table>\n",
              "</div>"
            ],
            "text/plain": [
              "    User ID  Gender  Age  EstimatedSalary  Purchased\n",
              "0  15624510    Male   19            19000          0\n",
              "1  15810944    Male   35            20000          0\n",
              "2  15668575  Female   26            43000          0\n",
              "3  15603246  Female   27            57000          0\n",
              "4  15804002    Male   19            76000          0"
            ]
          },
          "metadata": {
            "tags": []
          },
          "execution_count": 4
        }
      ]
    },
    {
      "cell_type": "code",
      "metadata": {
        "colab": {
          "base_uri": "https://localhost:8080/"
        },
        "id": "ELubDSktEgqZ",
        "outputId": "0b749615-20e7-4d55-cede-fdcfe6ac8fa8"
      },
      "source": [
        "X =df.iloc[:,[2.3]].values\r\n",
        "y= df.iloc[:,4].values\r\n",
        "\r\n",
        "# Splitting the dataset into the Training set Test set\r\n",
        "X_train,X_test,y_train,y_test = train_test_split(X,y,test_size= 0.3, random_state=0)\r\n",
        "\r\n",
        "#Create a svm classifier\r\n",
        "clf = svm.SVC(kernel = 'linear')# linear kernel\r\n",
        "\r\n",
        "#Train the model using the training sets\r\n",
        "clf.fit(X_train,y_train)\r\n",
        "\r\n",
        "#predict the response for test dataset\r\n",
        "y_pred = clf.predict(X_test)\r\n",
        "\r\n",
        "#Create a svm classifier\r\n",
        "clf = svm.SVC(kernel = 'linear')# linear kernel\r\n",
        "\r\n",
        "#Train the model using the training sets\r\n",
        "clf.fit(X_train,y_train)\r\n",
        "\r\n",
        "#predict the response for test dataset\r\n",
        "y_pred = clf.predict(X_test)\r\n",
        "\r\n",
        "print(clf)\r\n",
        "\r\n"
      ],
      "execution_count": null,
      "outputs": [
        {
          "output_type": "stream",
          "text": [
            "SVC(C=1.0, break_ties=False, cache_size=200, class_weight=None, coef0=0.0,\n",
            "    decision_function_shape='ovr', degree=3, gamma='scale', kernel='linear',\n",
            "    max_iter=-1, probability=False, random_state=None, shrinking=True,\n",
            "    tol=0.001, verbose=False)\n"
          ],
          "name": "stdout"
        }
      ]
    },
    {
      "cell_type": "code",
      "metadata": {
        "colab": {
          "base_uri": "https://localhost:8080/"
        },
        "id": "V5RqVCfKF0Ew",
        "outputId": "9b5c38d8-f2d1-45a4-d4a2-4c03fb656d6d"
      },
      "source": [
        "# Import scikit-learn metrics module for accuracy calculation\r\n",
        "from sklearn import metrics\r\n",
        "\r\n",
        "#Model accuracy \r\n",
        "print(\"Accuracy:\",metrics.accuracy_score(y_test,y_pred))"
      ],
      "execution_count": null,
      "outputs": [
        {
          "output_type": "stream",
          "text": [
            "Accuracy: 0.8666666666666667\n"
          ],
          "name": "stdout"
        }
      ]
    },
    {
      "cell_type": "code",
      "metadata": {
        "colab": {
          "base_uri": "https://localhost:8080/"
        },
        "id": "o-0pMh7-F-gH",
        "outputId": "138ca07a-51b9-4ee3-a44b-5d81970802c6"
      },
      "source": [
        "# Model Precision \r\n",
        "print (\"Precision:\",metrics.precision_score(y_test,y_pred))\r\n",
        "\r\n",
        "# Model Recall\r\n",
        "print(\"Recall:\",metrics.recall_score(y_test,y_pred))"
      ],
      "execution_count": null,
      "outputs": [
        {
          "output_type": "stream",
          "text": [
            "Precision: 0.8571428571428571\n",
            "Recall: 0.7317073170731707\n"
          ],
          "name": "stdout"
        }
      ]
    },
    {
      "cell_type": "code",
      "metadata": {
        "colab": {
          "base_uri": "https://localhost:8080/"
        },
        "id": "q0jdp1TcGA8H",
        "outputId": "bd54f942-0d10-4bd0-eed3-d5179e3daf07"
      },
      "source": [
        "from sklearn.metrics import  confusion_matrix\r\n",
        "cm = confusion_matrix(y_test,y_pred)\r\n",
        "print(cm)"
      ],
      "execution_count": null,
      "outputs": [
        {
          "output_type": "stream",
          "text": [
            "[[74  5]\n",
            " [11 30]]\n"
          ],
          "name": "stdout"
        }
      ]
    },
    {
      "cell_type": "markdown",
      "metadata": {
        "id": "BQZQdft1GMhj"
      },
      "source": [
        "**Accuracy** is 86.66666666666667 %"
      ]
    }
  ]
}