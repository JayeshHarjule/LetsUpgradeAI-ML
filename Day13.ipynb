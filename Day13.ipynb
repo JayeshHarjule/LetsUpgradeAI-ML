{
  "nbformat": 4,
  "nbformat_minor": 0,
  "metadata": {
    "colab": {
      "name": "Untitled8.ipynb",
      "provenance": [],
      "authorship_tag": "ABX9TyOzpEr/aXyOk2reYmvM3Ykc",
      "include_colab_link": true
    },
    "kernelspec": {
      "name": "python3",
      "display_name": "Python 3"
    }
  },
  "cells": [
    {
      "cell_type": "markdown",
      "metadata": {
        "id": "view-in-github",
        "colab_type": "text"
      },
      "source": [
        "<a href=\"https://colab.research.google.com/github/JayeshHarjule/LetsUpgradeAI-ML/blob/master/Day13.ipynb\" target=\"_parent\"><img src=\"https://colab.research.google.com/assets/colab-badge.svg\" alt=\"Open In Colab\"/></a>"
      ]
    },
    {
      "cell_type": "markdown",
      "metadata": {
        "id": "Iji0NNPZrjS0",
        "colab_type": "text"
      },
      "source": [
        "**Question 1:**\n",
        "\n",
        "Prepare a case study for the given Dataset to implement the following steps: Steps:\n",
        "\n",
        "\n",
        "1.   Import different required library\n",
        "2.   Check the version of the Library\n",
        "3.   Go for different observation like Info, description\n",
        "4.   Check null Values\n",
        "5.   Check duplicate values\n",
        "6.   Filter for different condition - come up with insights from the dataset, basic plot, distribution plots\n",
        "7.   Use a histogram to plot different columns Dataset Link for the Assignment: https://drive.google.com/file/d/1OHKvfy7Zj_OoNjGMQM_NuzQrxeCQk3fZ/view?sp=sharing"
      ]
    },
    {
      "cell_type": "code",
      "metadata": {
        "id": "4Z-PZ-O6rcZf",
        "colab_type": "code",
        "colab": {
          "base_uri": "https://localhost:8080/",
          "height": 72
        },
        "outputId": "ad2658e1-f856-4dfe-9764-389343158662"
      },
      "source": [
        "import numpy as np\n",
        "\n",
        "import pandas as pd\n",
        "\n",
        "import matplotlib.pyplot as plt\n",
        "\n",
        "import matplotlib\n",
        "\n",
        "import seaborn"
      ],
      "execution_count": 1,
      "outputs": [
        {
          "output_type": "stream",
          "text": [
            "/usr/local/lib/python3.6/dist-packages/statsmodels/tools/_testing.py:19: FutureWarning: pandas.util.testing is deprecated. Use the functions in the public API at pandas.testing instead.\n",
            "  import pandas.util.testing as tm\n"
          ],
          "name": "stderr"
        }
      ]
    },
    {
      "cell_type": "code",
      "metadata": {
        "id": "ZJeANVYXtOCl",
        "colab_type": "code",
        "colab": {
          "base_uri": "https://localhost:8080/",
          "height": 139
        },
        "outputId": "4a22551f-b1bd-4906-aaa6-2105611d4682"
      },
      "source": [
        "# Checking the version for imported modules\n",
        "\n",
        "# Numpy Version\n",
        "print('Version of Numpy:',np.__version__)\n",
        "\n",
        "# Pandas Version\n",
        "print('\\nVersion of Pandas:',pd.__version__)\n",
        "\n",
        "# Matplotlib Version\n",
        "print('\\nVersion of Matplotlib:',matplotlib.__version__)\n",
        "\n",
        "# Seaborn Version\n",
        "print('\\nVersion of Seaborn:',seaborn.__version__)"
      ],
      "execution_count": 2,
      "outputs": [
        {
          "output_type": "stream",
          "text": [
            "Version of Numpy: 1.18.5\n",
            "\n",
            "Version of Pandas: 1.0.5\n",
            "\n",
            "Version of Matplotlib: 3.2.2\n",
            "\n",
            "Version of Seaborn: 0.10.1\n"
          ],
          "name": "stdout"
        }
      ]
    },
    {
      "cell_type": "code",
      "metadata": {
        "id": "Rea0DMfHtVUl",
        "colab_type": "code",
        "colab": {
          "base_uri": "https://localhost:8080/",
          "height": 156
        },
        "outputId": "77043f63-7016-4c36-e08f-68896e275672"
      },
      "source": [
        "\n",
        "# Reading the creditcard.csv file\n",
        "my_data = pd.read_csv('../content/sample_data/creditcard.csv')\n",
        "\n",
        "# Checking the file data \n",
        "print(my_data.head())"
      ],
      "execution_count": 13,
      "outputs": [
        {
          "output_type": "stream",
          "text": [
            "   Time        V1        V2        V3  ...       V27       V28  Amount  Class\n",
            "0     0 -1.359807 -0.072781  2.536347  ...  0.133558 -0.021053  149.62    '0'\n",
            "1     0  1.191857  0.266151  0.166480  ... -0.008983  0.014724    2.69    '0'\n",
            "2     1 -1.358354 -1.340163  1.773209  ... -0.055353 -0.059752  378.66    '0'\n",
            "3     1 -0.966272 -0.185226  1.792993  ...  0.062723  0.061458  123.50    '0'\n",
            "4     2 -1.158233  0.877737  1.548718  ...  0.219422  0.215153   69.99    '0'\n",
            "\n",
            "[5 rows x 31 columns]\n"
          ],
          "name": "stdout"
        }
      ]
    },
    {
      "cell_type": "code",
      "metadata": {
        "id": "ZErysClwuCKI",
        "colab_type": "code",
        "colab": {
          "base_uri": "https://localhost:8080/",
          "height": 693
        },
        "outputId": "5178c026-d987-423f-8d1e-2dd23a103b03"
      },
      "source": [
        "# Information provided for the file by pandas\n",
        "print(my_data.info())"
      ],
      "execution_count": 14,
      "outputs": [
        {
          "output_type": "stream",
          "text": [
            "<class 'pandas.core.frame.DataFrame'>\n",
            "RangeIndex: 144393 entries, 0 to 144392\n",
            "Data columns (total 31 columns):\n",
            " #   Column  Non-Null Count   Dtype  \n",
            "---  ------  --------------   -----  \n",
            " 0   Time    144393 non-null  int64  \n",
            " 1   V1      144393 non-null  float64\n",
            " 2   V2      144393 non-null  float64\n",
            " 3   V3      144393 non-null  float64\n",
            " 4   V4      144393 non-null  float64\n",
            " 5   V5      144393 non-null  float64\n",
            " 6   V6      144393 non-null  float64\n",
            " 7   V7      144393 non-null  float64\n",
            " 8   V8      144393 non-null  float64\n",
            " 9   V9      144393 non-null  float64\n",
            " 10  V10     144393 non-null  float64\n",
            " 11  V11     144393 non-null  float64\n",
            " 12  V12     144393 non-null  float64\n",
            " 13  V13     144393 non-null  float64\n",
            " 14  V14     144393 non-null  float64\n",
            " 15  V15     144393 non-null  float64\n",
            " 16  V16     144393 non-null  float64\n",
            " 17  V17     144393 non-null  float64\n",
            " 18  V18     144393 non-null  float64\n",
            " 19  V19     144392 non-null  float64\n",
            " 20  V20     144392 non-null  float64\n",
            " 21  V21     144392 non-null  float64\n",
            " 22  V22     144392 non-null  float64\n",
            " 23  V23     144392 non-null  float64\n",
            " 24  V24     144392 non-null  float64\n",
            " 25  V25     144392 non-null  float64\n",
            " 26  V26     144392 non-null  float64\n",
            " 27  V27     144392 non-null  float64\n",
            " 28  V28     144392 non-null  float64\n",
            " 29  Amount  144392 non-null  float64\n",
            " 30  Class   144392 non-null  object \n",
            "dtypes: float64(29), int64(1), object(1)\n",
            "memory usage: 34.2+ MB\n",
            "None\n"
          ],
          "name": "stdout"
        }
      ]
    },
    {
      "cell_type": "code",
      "metadata": {
        "id": "OfwlIqLNuR6u",
        "colab_type": "code",
        "colab": {
          "base_uri": "https://localhost:8080/",
          "height": 208
        },
        "outputId": "150f90b4-2197-4768-b1ff-bdc5652a9222"
      },
      "source": [
        "# Printing statistical data using pandas\n",
        "print(my_data.describe())"
      ],
      "execution_count": 15,
      "outputs": [
        {
          "output_type": "stream",
          "text": [
            "                Time             V1  ...            V28         Amount\n",
            "count  144393.000000  144393.000000  ...  144392.000000  144392.000000\n",
            "mean    52857.046380      -0.253220  ...       0.002161      90.448546\n",
            "std     21307.822343       1.816380  ...       0.306028     245.735096\n",
            "min         0.000000     -56.407510  ...     -11.710896       0.000000\n",
            "25%     38394.000000      -1.024344  ...      -0.004279       5.990000\n",
            "50%     54607.000000      -0.276069  ...       0.023616      23.410000\n",
            "75%     70840.000000       1.158056  ...       0.077070      80.000000\n",
            "max     86086.000000       1.960497  ...      33.847808   19656.530000\n",
            "\n",
            "[8 rows x 30 columns]\n"
          ],
          "name": "stdout"
        }
      ]
    },
    {
      "cell_type": "code",
      "metadata": {
        "id": "zKforsAeuZ3j",
        "colab_type": "code",
        "colab": {
          "base_uri": "https://localhost:8080/",
          "height": 87
        },
        "outputId": "7c4d618f-c57a-48d9-d588-e5a8c929020b"
      },
      "source": [
        "print(my_data.dtypes.value_counts())"
      ],
      "execution_count": 6,
      "outputs": [
        {
          "output_type": "stream",
          "text": [
            "float64    29\n",
            "int64       1\n",
            "object      1\n",
            "dtype: int64\n"
          ],
          "name": "stdout"
        }
      ]
    },
    {
      "cell_type": "code",
      "metadata": {
        "id": "6x3dfZX_ug-M",
        "colab_type": "code",
        "colab": {
          "base_uri": "https://localhost:8080/",
          "height": 260
        },
        "outputId": "cf7a2d67-1b34-4cde-846d-b5780dd1f9c2"
      },
      "source": [
        "# Checking for null values for the file\n",
        "print(my_data.isnull())"
      ],
      "execution_count": 7,
      "outputs": [
        {
          "output_type": "stream",
          "text": [
            "        Time     V1     V2     V3     V4  ...    V26    V27    V28  Amount  Class\n",
            "0      False  False  False  False  False  ...  False  False  False   False  False\n",
            "1      False  False  False  False  False  ...  False  False  False   False  False\n",
            "2      False  False  False  False  False  ...  False  False  False   False  False\n",
            "3      False  False  False  False  False  ...  False  False  False   False  False\n",
            "4      False  False  False  False  False  ...  False  False  False   False  False\n",
            "...      ...    ...    ...    ...    ...  ...    ...    ...    ...     ...    ...\n",
            "23808  False  False  False  False  False  ...  False  False  False   False  False\n",
            "23809  False  False  False  False  False  ...  False  False  False   False  False\n",
            "23810  False  False  False  False  False  ...  False  False  False   False  False\n",
            "23811  False  False  False  False  False  ...  False  False  False   False  False\n",
            "23812  False  False  False  False  False  ...   True   True   True    True   True\n",
            "\n",
            "[23813 rows x 31 columns]\n"
          ],
          "name": "stdout"
        }
      ]
    },
    {
      "cell_type": "code",
      "metadata": {
        "id": "znEVAAs8uqrl",
        "colab_type": "code",
        "colab": {
          "base_uri": "https://localhost:8080/",
          "height": 225
        },
        "outputId": "0354e9cf-1c5f-45f3-ccb2-9655985943ea"
      },
      "source": [
        "# Checking the duplicate values \n",
        "print(my_data.duplicated())"
      ],
      "execution_count": 8,
      "outputs": [
        {
          "output_type": "stream",
          "text": [
            "0        False\n",
            "1        False\n",
            "2        False\n",
            "3        False\n",
            "4        False\n",
            "         ...  \n",
            "23808    False\n",
            "23809    False\n",
            "23810    False\n",
            "23811    False\n",
            "23812    False\n",
            "Length: 23813, dtype: bool\n"
          ],
          "name": "stdout"
        }
      ]
    },
    {
      "cell_type": "markdown",
      "metadata": {
        "id": "7vYwHIzXuwxQ",
        "colab_type": "text"
      },
      "source": [
        "# **Basic Plot**"
      ]
    },
    {
      "cell_type": "code",
      "metadata": {
        "id": "ckTHtpiMuw9p",
        "colab_type": "code",
        "colab": {
          "base_uri": "https://localhost:8080/",
          "height": 365
        },
        "outputId": "de81a79f-a9c1-4f05-d0f4-8061797ab1c7"
      },
      "source": [
        "\n",
        "# Declearing the arrays \n",
        "x = np.array(my_data['Time'])\n",
        "y = np.array(my_data['Amount'])\n",
        "\n",
        "# Ploting the graph\n",
        "print(plt.plot(x,y))\n",
        "\n",
        "# Labling the graph\n",
        "print(plt.xlabel('Amount'))\n",
        "print(plt.ylabel('Time'))\n",
        "print(plt.title('Amount VS Time'))"
      ],
      "execution_count": 9,
      "outputs": [
        {
          "output_type": "stream",
          "text": [
            "[<matplotlib.lines.Line2D object at 0x7f8926af1b00>]\n",
            "Text(0.5, 0, 'Amount')\n",
            "Text(0, 0.5, 'Time')\n",
            "Text(0.5, 1.0, 'Amount VS Time')\n"
          ],
          "name": "stdout"
        },
        {
          "output_type": "display_data",
          "data": {
            "image/png": "[encoded data removed]",
            "text/plain": [
              "<Figure size 432x288 with 1 Axes>"
            ]
          },
          "metadata": {
            "tags": [],
            "needs_background": "light"
          }
        }
      ]
    },
    {
      "cell_type": "markdown",
      "metadata": {
        "id": "_jnHuK4Tu339",
        "colab_type": "text"
      },
      "source": [
        "# **Bar Plot**"
      ]
    },
    {
      "cell_type": "code",
      "metadata": {
        "id": "fRCHGYEuu4MZ",
        "colab_type": "code",
        "colab": {
          "base_uri": "https://localhost:8080/",
          "height": 365
        },
        "outputId": "c22c931c-1249-40bc-c235-ba08e3bb2bb8"
      },
      "source": [
        "# Declearing the arrays \n",
        "m = np.array(my_data.head(10)['Time'])\n",
        "n = np.array(my_data.head(10)['Amount'])\n",
        "\n",
        "# Ploting the graph\n",
        "print(plt.bar(m,n))\n",
        "\n",
        "# Labling the graph\n",
        "print(plt.xlabel('Amount'))\n",
        "print(plt.ylabel('Time'))\n",
        "print(plt.title('Amount VS Time'))"
      ],
      "execution_count": 10,
      "outputs": [
        {
          "output_type": "stream",
          "text": [
            "<BarContainer object of 10 artists>\n",
            "Text(0.5, 0, 'Amount')\n",
            "Text(0, 0.5, 'Time')\n",
            "Text(0.5, 1.0, 'Amount VS Time')\n"
          ],
          "name": "stdout"
        },
        {
          "output_type": "display_data",
          "data": {
            "image/png": "[encoded data removed]",
            "text/plain": [
              "<Figure size 432x288 with 1 Axes>"
            ]
          },
          "metadata": {
            "tags": [],
            "needs_background": "light"
          }
        }
      ]
    },
    {
      "cell_type": "markdown",
      "metadata": {
        "id": "Vql7iO5Uu-7l",
        "colab_type": "text"
      },
      "source": [
        "# **Histogram**"
      ]
    },
    {
      "cell_type": "code",
      "metadata": {
        "id": "IIFURMD8u_Qm",
        "colab_type": "code",
        "colab": {
          "base_uri": "https://localhost:8080/",
          "height": 385
        },
        "outputId": "62ef5caf-cce5-4fc0-c4aa-605c5ab46729"
      },
      "source": [
        "# Declearing the array\n",
        "x1 = np.array(my_data.head(15)['Time'])\n",
        "\n",
        "# Ploting the histogram\n",
        "print(plt.hist(x1))\n",
        "\n",
        "# Labling the histogram\n",
        "print(plt.xlabel('Amount'))\n",
        "print(plt.ylabel('Time'))\n",
        "print(plt.title('Amount VS Time'))"
      ],
      "execution_count": 11,
      "outputs": [
        {
          "output_type": "stream",
          "text": [
            "(array([4., 2., 0., 1., 0., 2., 0., 1., 3., 2.]), array([ 0. ,  1.2,  2.4,  3.6,  4.8,  6. ,  7.2,  8.4,  9.6, 10.8, 12. ]), <a list of 10 Patch objects>)\n",
            "Text(0.5, 0, 'Amount')\n",
            "Text(0, 0.5, 'Time')\n",
            "Text(0.5, 1.0, 'Amount VS Time')\n"
          ],
          "name": "stdout"
        },
        {
          "output_type": "display_data",
          "data": {
            "image/png": "[encoded data removed]",
            "text/plain": [
              "<Figure size 432x288 with 1 Axes>"
            ]
          },
          "metadata": {
            "tags": [],
            "needs_background": "light"
          }
        }
      ]
    },
    {
      "cell_type": "markdown",
      "metadata": {
        "id": "DPp_D85jvFL1",
        "colab_type": "text"
      },
      "source": [
        "# **Scattered Plot**"
      ]
    },
    {
      "cell_type": "code",
      "metadata": {
        "id": "CluceEEzvFXQ",
        "colab_type": "code",
        "colab": {
          "base_uri": "https://localhost:8080/",
          "height": 459
        },
        "outputId": "a49557a1-92d3-45e8-81fb-d3539f2ddd45"
      },
      "source": [
        "# Ploting the random scatterd graph\n",
        "print(seaborn.jointplot(m,n,my_data.head(10)))"
      ],
      "execution_count": 12,
      "outputs": [
        {
          "output_type": "stream",
          "text": [
            "<seaborn.axisgrid.JointGrid object at 0x7f8926b547f0>\n"
          ],
          "name": "stdout"
        },
        {
          "output_type": "display_data",
          "data": {
            "image/png": "[encoded data removed]",
            "text/plain": [
              "<Figure size 432x432 with 3 Axes>"
            ]
          },
          "metadata": {
            "tags": [],
            "needs_background": "light"
          }
        }
      ]
    }
  ]
}