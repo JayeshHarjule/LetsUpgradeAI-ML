{
  "nbformat": 4,
  "nbformat_minor": 0,
  "metadata": {
    "colab": {
      "name": "Untitled2.ipynb",
      "provenance": [],
      "collapsed_sections": [],
      "authorship_tag": "ABX9TyMGJZhfikGH21Dc1z+PsInh",
      "include_colab_link": true
    },
    "kernelspec": {
      "name": "python3",
      "display_name": "Python 3"
    }
  },
  "cells": [
    {
      "cell_type": "markdown",
      "metadata": {
        "id": "view-in-github",
        "colab_type": "text"
      },
      "source": [
        "<a href=\"https://colab.research.google.com/github/JayeshHarjule/LetsUpgradeAI-ML/blob/master/Day5.ipynb\" target=\"_parent\"><img src=\"https://colab.research.google.com/assets/colab-badge.svg\" alt=\"Open In Colab\"/></a>"
      ]
    },
    {
      "cell_type": "markdown",
      "metadata": {
        "id": "nU6TRG-5-zod",
        "colab_type": "text"
      },
      "source": [
        "Answer 1) Program to find the first 20 non-even prime natural numbers."
      ]
    },
    {
      "cell_type": "code",
      "metadata": {
        "id": "6xWItCe8_GPk",
        "colab_type": "code",
        "colab": {
          "base_uri": "https://localhost:8080/",
          "height": 52
        },
        "outputId": "000f3e9b-550e-4c0b-ae40-e3ff103ee032"
      },
      "source": [
        "# Function to find next Prime number\n",
        "def nextPrime(num):\n",
        "  while True:\n",
        "    num+=1;\n",
        "    for i in range(2,num):\n",
        "      if num%i==0:\n",
        "        break\n",
        "    else:\n",
        "      return num\n",
        "\n",
        "#Function to produce non-even prime numbers\n",
        "def primeNumProducer(N):\n",
        "  num,count =1,1\n",
        "  while count<=N:\n",
        "    num=nextPrime(num)\n",
        "    if num%2!=0:\n",
        "      yield num\n",
        "      count+=1\n",
        "\n",
        "l=[x for x in primeNumProducer(20)]\n",
        "print(\"Non-even first 20 natural Numbers are as follows :  \")\n",
        "for x in range(len(l)):\n",
        "  print (l[x],end =\" \")"
      ],
      "execution_count": 11,
      "outputs": [
        {
          "output_type": "stream",
          "text": [
            "Non-even first 20 natural Numbers are as follows :  \n",
            "3 5 7 11 13 17 19 23 29 31 37 41 43 47 53 59 61 67 71 73 "
          ],
          "name": "stdout"
        }
      ]
    },
    {
      "cell_type": "markdown",
      "metadata": {
        "id": "nCfkKaVzDN1Z",
        "colab_type": "text"
      },
      "source": [
        "Answer 2) Python program to implement 15 functions of string."
      ]
    },
    {
      "cell_type": "code",
      "metadata": {
        "id": "gizJ7qVmFYOv",
        "colab_type": "code",
        "colab": {
          "base_uri": "https://localhost:8080/",
          "height": 312
        },
        "outputId": "ed9ba128-d543-4e1e-cfb1-7d8ca12e9e63"
      },
      "source": [
        "\n",
        "str1 = \"  Let's Upgrade!   \"\n",
        "print(str1)\n",
        "#Program for strip() method\n",
        "print(\"Output with strip() function:\", str1.strip())\n",
        "\n",
        "#Program for lower() method\n",
        "print(\"Output with lower() function:\", str1.lower())\n",
        "\n",
        "#Program for upper() method\n",
        "print(\"Output with upper() function:\", str1.upper())\n",
        "\n",
        "#Program for replace() method\n",
        "print(\"Output with replace() function:\", str1.replace(\"e\",\"E\"))\n",
        "\n",
        "#Program for split() method\n",
        "print(\"Output with split() function:\", str1.split(\" \"))\n",
        "\n",
        "#Program for capitalize() method\n",
        "str2 = \"hi, this is my assignment.\"\n",
        "print(\"Output with capitalize() function:\",str2.capitalize())\n",
        "\n",
        "#Program for casefold() method\n",
        "str3 = \"Hi, Demonstrate String Methods\"\n",
        "print(\"Output with casefold() function:\",str3.casefold())\n",
        "\n",
        "#Program for center() method\n",
        "str4 = \"Hello Learn with Let'sUpgrade\"\n",
        "print(\"Output with center() function:\",str4.center(100))\n",
        "\n",
        "#Program for count() method\n",
        "str5 = \"Let's upgrade ourself with LeranWith Let's Upgrade\"\n",
        "print(\"Output with count() function:\", str5.count(\"upgrade\"))\n",
        "\n",
        "#Progam for endswith() method\n",
        "str5 = \"Let's upgrade ourself with LearnWith Let's Upgrade\"\n",
        "print(\"Output with endswith() function:\", str5.endswith(\"upgrade\"))\n",
        "\n",
        "#Progam for find() method\n",
        "str5 = \"Let's upgrade ourself with LearnWith Let's Upgrade\"\n",
        "print(\"Output with find() function:\", str5.find(\"upgrade\"))\n",
        "\n",
        "#Progam for isalnum() method\n",
        "str5 = \"Let's upgrade ourself with LearnWith Let's Upgrade\"\n",
        "print(\"Output with isalnum() function:\", str5.isalnum())\n",
        "\n",
        "#Progam for islower() method\n",
        "str5 = \"let's upgrade ourself with learn with let's upgrade\"\n",
        "print(\"Output with islower() function:\", str5.islower())\n",
        "\n",
        "#Progam for isupper() method\n",
        "str5 = \"LET'S UPGRADE\"\n",
        "print(\"Output with isupper() function:\", str5.isupper())\n",
        "\n",
        "#Progam for split() method\n",
        "str5 = \"LET UPGRADE\"\n",
        "print(\"Output with split() function:\", str5.split())\n",
        "\n",
        "#Progam for swapcase() method\n",
        "str5 = \"LET'S UPGRADE\"\n",
        "print(\"Output with swapcase() function:\", str5.swapcase())"
      ],
      "execution_count": 9,
      "outputs": [
        {
          "output_type": "stream",
          "text": [
            "  Let's Upgrade!   \n",
            "Output with strip() function: Let's Upgrade!\n",
            "Output with lower() function:   let's upgrade!   \n",
            "Output with upper() function:   LET'S UPGRADE!   \n",
            "Output with replace() function:   LEt's UpgradE!   \n",
            "Output with split() function: ['', '', \"Let's\", 'Upgrade!', '', '', '']\n",
            "Output with capitalize() function: Hi, this is my assignment.\n",
            "Output with casefold() function: hi, demonstrate string methods\n",
            "Output with center() function:                                    Hello Learn with Let'sUpgrade                                    \n",
            "Output with count() function: 1\n",
            "Output with endswith() function: False\n",
            "Output with find() function: 6\n",
            "Output with isalnum() function: False\n",
            "Output with islower() function: True\n",
            "Output with isupper() function: True\n",
            "Output with split() function: ['LET', 'UPGRADE']\n",
            "Output with swapcase() function: let's upgrade\n"
          ],
          "name": "stdout"
        }
      ]
    },
    {
      "cell_type": "markdown",
      "metadata": {
        "id": "sTUg0EOlZ7j8",
        "colab_type": "text"
      },
      "source": [
        "Answer 3) Program to check if the given string is a Palindrome or Anagram or None of them. Display\n",
        "the message accordingly to the user."
      ]
    },
    {
      "cell_type": "code",
      "metadata": {
        "id": "QatKZx-3aGGu",
        "colab_type": "code",
        "colab": {
          "base_uri": "https://localhost:8080/",
          "height": 87
        },
        "outputId": "da17fe85-4279-477a-f693-f77aa991dee7"
      },
      "source": [
        "# function to check string is palindrome or not \n",
        "def isEnteredStringPalindrome(st):\n",
        "  # Run loop from 0 to length/2 for entered string \n",
        "  for i in range(0, int(len(st)/2)): \n",
        "    if st[i] != st[len(st)-i-1]:\n",
        "      return False\n",
        "    return True\n",
        "\n",
        "#function to check entered string is anagram or not\n",
        "def  isEnteredStringAnagram(st1,st2):\n",
        "  #Sort the elements in the string using Sorted function\n",
        "  if(sorted(st1)==sorted(st2)):\n",
        "    return True\n",
        "  return False\n",
        "\n",
        " \n",
        "#Select operation to be performed\n",
        "opt = int(input(\"Enter 1 for Palindrome check or enter 2 for Anagram check:\"))\n",
        "if opt==1:\n",
        "  str1=str(input(\"Enter the string:\"))\n",
        "  Check = isEnteredStringPalindrome(str1)\n",
        "  if (Check):\n",
        "    print(\"Entered string\",str1,\"is Palindrome\")\n",
        "  else:\n",
        "    print(\"Entered string\", str1,\"is not Palindrome\")\n",
        "if opt==2:\n",
        "  str1=str(input(\"Enter first string:\"))\n",
        "  str2=str(input(\"Enter second string:\"))\n",
        "  Check1 = isEnteredStringAnagram(str1,str2)\n",
        "  if (Check1):\n",
        "    print(\"Entered strings\",str1,\"and\",str2,\"are anagram\")\n",
        "  else:\n",
        "    print(\"Entered strings\",str1,\"and\",str2,\"are not anagram\")\n",
        "else:\n",
        "   print(\"Action cannot be performed, please run the code again. Thank you:)\") \n"
      ],
      "execution_count": 6,
      "outputs": [
        {
          "output_type": "stream",
          "text": [
            "Enter 1 for Palindrome or enter 2 for Anagram check:2\n",
            "Enter first string:taste\n",
            "Enter second string:rest\n",
            "Entered strings taste and rest are not anagram\n"
          ],
          "name": "stdout"
        }
      ]
    },
    {
      "cell_type": "markdown",
      "metadata": {
        "id": "GXwfa9OpZ7xx",
        "colab_type": "text"
      },
      "source": [
        "Answer 4) Write a Python's user-defined function that removes all the additional characters from the string and\n",
        "convert it finally to lower case using built-in lower().\n"
      ]
    },
    {
      "cell_type": "code",
      "metadata": {
        "id": "Mn2ooEU2aEc3",
        "colab_type": "code",
        "colab": {
          "base_uri": "https://localhost:8080/",
          "height": 52
        },
        "outputId": "aecd9028-0af9-46ae-a37f-8d8050d5dbea"
      },
      "source": [
        "# Define function to remove all additional characters from string and convert to lower case\n",
        "import re\n",
        "a_string =str(input(\"Enter the string:\"))\n",
        "# Logic to remove additional characters using Regex\n",
        "new_string = re.sub(\"[^a-zA-Z0-9]+\", \"\", a_string)\n",
        "print(new_string.lower())"
      ],
      "execution_count": 8,
      "outputs": [
        {
          "output_type": "stream",
          "text": [
            "Enter the string:\"Dr. Darshan Ingle @AIML Trainer\"\n",
            "drdarshaningleaimltrainer\n"
          ],
          "name": "stdout"
        }
      ]
    }
  ]
}