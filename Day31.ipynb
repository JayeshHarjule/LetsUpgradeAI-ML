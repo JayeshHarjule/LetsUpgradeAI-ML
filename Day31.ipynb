{
  "nbformat": 4,
  "nbformat_minor": 0,
  "metadata": {
    "colab": {
      "name": "Copy of Untitled16.ipynb",
      "provenance": [],
      "authorship_tag": "ABX9TyNY73Ll5T7ybAn8/J24aEKZ",
      "include_colab_link": true
    },
    "kernelspec": {
      "name": "python3",
      "display_name": "Python 3"
    }
  },
  "cells": [
    {
      "cell_type": "markdown",
      "metadata": {
        "id": "view-in-github",
        "colab_type": "text"
      },
      "source": [
        "<a href=\"https://colab.research.google.com/github/JayeshHarjule/LetsUpgradeAI-ML/blob/master/Day31.ipynb\" target=\"_parent\"><img src=\"https://colab.research.google.com/assets/colab-badge.svg\" alt=\"Open In Colab\"/></a>"
      ]
    },
    {
      "cell_type": "markdown",
      "metadata": {
        "id": "PuzFAtUA04Rp"
      },
      "source": [
        "**Answer 1)**\n",
        "\n",
        "**Problem Statement:** Use IRIS dataset to perform KNN and compare with logistic regression."
      ]
    },
    {
      "cell_type": "code",
      "metadata": {
        "id": "RVrv2sJl0p-z",
        "outputId": "2aec5301-124d-4dec-c525-874af19ede6a",
        "colab": {
          "base_uri": "https://localhost:8080/",
          "height": 693
        }
      },
      "source": [
        "import pandas as pd \n",
        "import numpy as np \n",
        "import matplotlib.pyplot as plt \n",
        "import sklearn as sk\n",
        "from sklearn import datasets\n",
        "from sklearn.model_selection import train_test_split\n",
        "from collections import Counter\n",
        "from sklearn.neighbors import KNeighborsClassifier\n",
        "from sklearn.preprocessing import StandardScaler \n",
        "from sklearn.linear_model import LogisticRegression\n",
        "from sklearn.metrics import confusion_matrix  \n",
        "from sklearn.metrics import accuracy_score\n",
        "from sklearn.metrics import classification_report\n",
        "%matplotlib inline\n",
        "\n",
        "\n",
        "iris = datasets.load_iris()\n",
        "\n",
        "#separate x and y labels\n",
        "training = iris['data']\n",
        "training_labels = iris['target']\n",
        "\n",
        "#create x and y dataframes\n",
        "training_df = pd.DataFrame(training,columns=['sepal length','sepal width','petal length','petal width'])\n",
        "labels_df = pd.DataFrame(training_labels,columns=['Iris Species'])\n",
        "\n",
        "#join them together horizontally\n",
        "training_df = pd.concat([training_df,labels_df],axis=1)\n",
        "\n",
        "#separate x and y dataframes\n",
        "labels_df = training_df['Iris Species']\n",
        "training_df.drop('Iris Species',axis=1,inplace=True)\n",
        "\n",
        "#create training and testing sets\n",
        "x_train,x_test,y_train,y_test = train_test_split(training_df,labels_df,test_size=.33,random_state=0)\n",
        "\n",
        "#Fitting K-NN classifier to the training set  \n",
        "classifier= KNeighborsClassifier(n_neighbors=5, metric='minkowski', p=2 )  \n",
        "classifier.fit(x_train, y_train)\n",
        "\n",
        "\n",
        "#Predicting the test set result  \n",
        "y_pred= classifier.predict(x_test)\n",
        "\n",
        "\n",
        "#Creating the Confusion matrix  \n",
        "cm1= confusion_matrix(y_test, y_pred)\n",
        "print(\"Confusion Matrix when KNN Classifier is impelemented \\n\", cm1)\n",
        "print(\"\\n Accuracy of test set with KNN classifier =\",accuracy_score(y_test, y_pred)*100)\n",
        "print(\"\\n The classification report when KNN classifier is applied is as follows \\n\")\n",
        "print(classification_report(y_test, y_pred))\n",
        "\n",
        "\n",
        "#feature Scaling  \n",
        "st_x= StandardScaler()    \n",
        "x_train= st_x.fit_transform(x_train)    \n",
        "x_test= st_x.transform(x_test) \n",
        "\n",
        "classifier= LogisticRegression()\n",
        "\n",
        "# fit the model with data\n",
        "classifier.fit(x_train,y_train)\n",
        "\n",
        "#Predicting the test set result\n",
        "y_pred=classifier.predict(x_test)\n",
        "\n",
        "#Creating the Confusion matrix  \n",
        "cm2= confusion_matrix(y_test, y_pred)\n",
        "print(\"\\n Confusion Matrix when Logistic Regression is impelemented \\n\", cm2)\n",
        "print(\"\\n Accuracy of test set with Logistic Regression =\",accuracy_score(y_test, y_pred)*100)\n",
        "print(\"\\n The classification report when Logistic Regression is applied is as follows \\n\")\n",
        "print(classification_report(y_test, y_pred))"
      ],
      "execution_count": null,
      "outputs": [
        {
          "output_type": "stream",
          "text": [
            "Confusion Matrix when KNN Classifier is impelemented \n",
            " [[16  0  0]\n",
            " [ 0 18  1]\n",
            " [ 0  0 15]]\n",
            "\n",
            " Accuracy of test set with KNN classifier = 98.0\n",
            "\n",
            " The classification report when KNN classifier is applied is as follows \n",
            "\n",
            "              precision    recall  f1-score   support\n",
            "\n",
            "           0       1.00      1.00      1.00        16\n",
            "           1       1.00      0.95      0.97        19\n",
            "           2       0.94      1.00      0.97        15\n",
            "\n",
            "    accuracy                           0.98        50\n",
            "   macro avg       0.98      0.98      0.98        50\n",
            "weighted avg       0.98      0.98      0.98        50\n",
            "\n",
            "\n",
            " Confusion Matrix when Logistic Regression is impelemented \n",
            " [[16  0  0]\n",
            " [ 0 18  1]\n",
            " [ 0  2 13]]\n",
            "\n",
            " Accuracy of test set with Logistic Regression = 94.0\n",
            "\n",
            " The classification report when Logistic Regression is applied is as follows \n",
            "\n",
            "              precision    recall  f1-score   support\n",
            "\n",
            "           0       1.00      1.00      1.00        16\n",
            "           1       0.90      0.95      0.92        19\n",
            "           2       0.93      0.87      0.90        15\n",
            "\n",
            "    accuracy                           0.94        50\n",
            "   macro avg       0.94      0.94      0.94        50\n",
            "weighted avg       0.94      0.94      0.94        50\n",
            "\n"
          ],
          "name": "stdout"
        }
      ]
    },
    {
      "cell_type": "markdown",
      "metadata": {
        "id": "HG_FgeiR5jTR"
      },
      "source": [
        "Accuracy of KNN classifier is 98% whereas it is 94% when Logistic Regression is applied on IRIS dataset."
      ]
    }
  ]
}