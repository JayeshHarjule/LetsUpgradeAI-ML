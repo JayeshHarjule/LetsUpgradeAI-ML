{
  "nbformat": 4,
  "nbformat_minor": 0,
  "metadata": {
    "colab": {
      "name": "Untitled5.ipynb",
      "provenance": [],
      "authorship_tag": "ABX9TyNNSnQ95I+F12Z/7Y7G1TyZ",
      "include_colab_link": true
    },
    "kernelspec": {
      "name": "python3",
      "display_name": "Python 3"
    }
  },
  "cells": [
    {
      "cell_type": "markdown",
      "metadata": {
        "id": "view-in-github",
        "colab_type": "text"
      },
      "source": [
        "<a href=\"https://colab.research.google.com/github/JayeshHarjule/LetsUpgradeAI-ML/blob/master/Day7.ipynb\" target=\"_parent\"><img src=\"https://colab.research.google.com/assets/colab-badge.svg\" alt=\"Open In Colab\"/></a>"
      ]
    },
    {
      "cell_type": "markdown",
      "metadata": {
        "id": "VsWCAJj__yjL",
        "colab_type": "text"
      },
      "source": [
        "Answer 1) \n",
        "\n",
        "**Problem Statment** :-\n",
        "\n",
        "Write a program to copy the contents of one file to another using a for loop. (Don’t use built-in copy\n",
        "function)"
      ]
    },
    {
      "cell_type": "code",
      "metadata": {
        "id": "Rac1ZUKd45Sh",
        "colab_type": "code",
        "colab": {
          "base_uri": "https://localhost:8080/",
          "height": 69
        },
        "outputId": "0285eebc-83bf-4fcb-948a-9e8a3c62802d"
      },
      "source": [
        "fn = open('/content/sample_data/Data/hello.txt','r+')\n",
        "   \n",
        "fn1 = open('/content/sample_data/Data/copy.txt', 'w') \n",
        "\n",
        "cont = fn.readlines() \n",
        "type(cont)\n",
        "print(type(cont))\n",
        "print(cont)\n",
        "for i in range(0, len(cont)):  \n",
        "        fn1.write(cont[i]) \n",
        "   \n",
        "fn1.close() \n",
        "  \n",
        "fn1 = open('/content/sample_data/Data/copy.txt', 'r') \n",
        "  \n",
        "cont1 = fn1.read() \n",
        "  \n",
        "print(cont1) \n",
        "  \n",
        "\n",
        "fn.close() \n",
        "fn1.close()"
      ],
      "execution_count": 4,
      "outputs": [
        {
          "output_type": "stream",
          "text": [
            "<class 'list'>\n",
            "[\"['HI Jayesh', 'How are you?']\"]\n",
            "['HI Jayesh', 'How are you?']\n"
          ],
          "name": "stdout"
        }
      ]
    },
    {
      "cell_type": "markdown",
      "metadata": {
        "id": "j75lcXqp_0V9",
        "colab_type": "text"
      },
      "source": [
        "Answer 2)\n",
        "\n",
        "**Problem Statement** :-\n",
        "\n",
        "Write a Python program to find maximum and minimum values in the dictionary. Do not use built-in min\n",
        "and max functions."
      ]
    },
    {
      "cell_type": "code",
      "metadata": {
        "id": "-gifvRgXASgT",
        "colab_type": "code",
        "colab": {
          "base_uri": "https://localhost:8080/",
          "height": 52
        },
        "outputId": "193891e2-160d-4685-877c-8ef56a2a2fe6"
      },
      "source": [
        "def kk(**kwargs):\n",
        "    print(kwargs)\n",
        "    max=None\n",
        "    min=None\n",
        "    for i,j in kwargs.items():\n",
        "        if max is None or max<j :\n",
        "            max=j\n",
        "        elif min is None or min>j:\n",
        "            min=j\n",
        "        else:\n",
        "            return max,min\n",
        "    return max,min\n",
        "kk(x=31,y=2,z=10)"
      ],
      "execution_count": 8,
      "outputs": [
        {
          "output_type": "stream",
          "text": [
            "{'x': 31, 'y': 2, 'z': 10}\n"
          ],
          "name": "stdout"
        },
        {
          "output_type": "execute_result",
          "data": {
            "text/plain": [
              "(31, 2)"
            ]
          },
          "metadata": {
            "tags": []
          },
          "execution_count": 8
        }
      ]
    }
  ]
}