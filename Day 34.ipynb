{
  "nbformat": 4,
  "nbformat_minor": 0,
  "metadata": {
    "colab": {
      "name": "Untitled22.ipynb",
      "provenance": [],
      "authorship_tag": "ABX9TyPhQb4gztf/8MoM+4BG/yaT",
      "include_colab_link": true
    },
    "kernelspec": {
      "name": "python3",
      "display_name": "Python 3"
    }
  },
  "cells": [
    {
      "cell_type": "markdown",
      "metadata": {
        "id": "view-in-github",
        "colab_type": "text"
      },
      "source": [
        "<a href=\"https://colab.research.google.com/github/JayeshHarjule/LetsUpgradeAI-ML/blob/master/Day%2034.ipynb\" target=\"_parent\"><img src=\"https://colab.research.google.com/assets/colab-badge.svg\" alt=\"Open In Colab\"/></a>"
      ]
    },
    {
      "cell_type": "markdown",
      "metadata": {
        "id": "gBjcS7s6q2jb"
      },
      "source": [
        "**Answer 1)**\r\n",
        "\r\n",
        "**Problem Statement** - \r\n",
        "\r\n",
        "Use the IRIS dataset and create a decision tree and check the accuracy label\r\n"
      ]
    },
    {
      "cell_type": "code",
      "metadata": {
        "colab": {
          "base_uri": "https://localhost:8080/",
          "height": 664
        },
        "id": "v4PVAytzLxZm",
        "outputId": "35fd6b5a-8a1e-4f6f-f3ac-8b99df317e9f"
      },
      "source": [
        "import numpy as np\r\n",
        "import pandas as pd\r\n",
        "from sklearn.datasets import load_iris\r\n",
        "from sklearn import tree\r\n",
        "from sklearn.tree import DecisionTreeClassifier\r\n",
        "from sklearn.model_selection import train_test_split\r\n",
        "from sklearn.svm import SVR\r\n",
        "from sklearn.metrics import r2_score,mean_squared_error\r\n",
        "import matplotlib.pyplot as plt\r\n",
        "import os\r\n",
        "\r\n",
        "iris = load_iris()\r\n",
        "#print the names of the features\r\n",
        "print(\"Features:\", iris.feature_names)\r\n",
        "\r\n",
        "#print the labels\r\n",
        "print(\"Labels:\",iris.target_names)\r\n",
        "\r\n",
        "#Splitting the data into training and testing sets\r\n",
        "X_train,X_test,y_train,y_test = train_test_split(iris.data,iris.target,test_size=0.3,random_state=109)\r\n",
        "\r\n",
        "# Doing the classification\r\n",
        "clf = DecisionTreeClassifier(max_depth = 2, random_state = 0)\r\n",
        "clf.fit(X_train,y_train)\r\n",
        "\r\n",
        "y_pred= clf.predict(X_test)\r\n",
        "print(y_pred)\r\n",
        "\r\n",
        "from sklearn.metrics import confusion_matrix\r\n",
        "cm= confusion_matrix(y_test,y_pred)\r\n",
        "print(\"Confusion Matrix: \\n\",cm)\r\n",
        "\r\n",
        "tree.plot_tree(clf)"
      ],
      "execution_count": 6,
      "outputs": [
        {
          "output_type": "stream",
          "text": [
            "Features: ['sepal length (cm)', 'sepal width (cm)', 'petal length (cm)', 'petal width (cm)']\n",
            "Labels: ['setosa' 'versicolor' 'virginica']\n",
            "[2 1 1 0 2 1 0 2 1 2 2 0 1 0 0 0 1 1 0 1 2 0 2 0 0 1 2 1 1 2 1 2 1 2 1 2 0\n",
            " 2 2 1 1 1 1 2 0]\n",
            "Confusion Matrix: \n",
            " [[12  0  0]\n",
            " [ 0 15  2]\n",
            " [ 0  3 13]]\n",
            "Confusion Matrix:\n",
            "[[12  0  0]\n",
            " [ 0 15  2]\n",
            " [ 0  3 13]]\n",
            "Classification Report:\n",
            "              precision    recall  f1-score   support\n",
            "\n",
            "           0       1.00      1.00      1.00        12\n",
            "           1       0.83      0.88      0.86        17\n",
            "           2       0.87      0.81      0.84        16\n",
            "\n",
            "    accuracy                           0.89        45\n",
            "   macro avg       0.90      0.90      0.90        45\n",
            "weighted avg       0.89      0.89      0.89        45\n",
            "\n",
            "Accuracy: 0.8888888888888888\n"
          ],
          "name": "stdout"
        },
        {
          "output_type": "display_data",
          "data": {
            "image/png": "[encoded data removed]",
            "text/plain": [
              "<Figure size 432x288 with 1 Axes>"
            ]
          },
          "metadata": {
            "tags": [],
            "needs_background": "light"
          }
        }
      ]
    },
    {
      "cell_type": "code",
      "metadata": {
        "colab": {
          "base_uri": "https://localhost:8080/"
        },
        "id": "NVenTC0nsxuF",
        "outputId": "f752aaf3-4fa0-47c0-c9c1-ee95f2c905b2"
      },
      "source": [
        "from sklearn.metrics import classification_report,confusion_matrix,accuracy_score\r\n",
        "result = confusion_matrix(y_test,y_pred)\r\n",
        "print(\"Confusion Matrix:\")\r\n",
        "print(result)\r\n",
        "result1 = classification_report(y_test,y_pred)\r\n",
        "print(\"Classification Report:\",)\r\n",
        "print(result1)\r\n",
        "result2 = accuracy_score(y_test,y_pred)\r\n",
        "print(\"Accuracy:\",result2)"
      ],
      "execution_count": 7,
      "outputs": [
        {
          "output_type": "stream",
          "text": [
            "Confusion Matrix:\n",
            "[[12  0  0]\n",
            " [ 0 15  2]\n",
            " [ 0  3 13]]\n",
            "Classification Report:\n",
            "              precision    recall  f1-score   support\n",
            "\n",
            "           0       1.00      1.00      1.00        12\n",
            "           1       0.83      0.88      0.86        17\n",
            "           2       0.87      0.81      0.84        16\n",
            "\n",
            "    accuracy                           0.89        45\n",
            "   macro avg       0.90      0.90      0.90        45\n",
            "weighted avg       0.89      0.89      0.89        45\n",
            "\n",
            "Accuracy: 0.8888888888888888\n"
          ],
          "name": "stdout"
        }
      ]
    }
  ]
}